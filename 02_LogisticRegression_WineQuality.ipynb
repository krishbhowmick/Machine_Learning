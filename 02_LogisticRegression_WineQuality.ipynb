{
  "nbformat": 4,
  "nbformat_minor": 0,
  "metadata": {
    "colab": {
      "name": "Task2_LogisticRegression_WineQuality",
      "provenance": [],
      "collapsed_sections": [],
      "authorship_tag": "ABX9TyOWNg40z+zW6+j9kXebbZNx",
      "include_colab_link": true
    },
    "kernelspec": {
      "name": "python3",
      "display_name": "Python 3"
    }
  },
  "cells": [
    {
      "cell_type": "markdown",
      "metadata": {
        "id": "view-in-github",
        "colab_type": "text"
      },
      "source": [
        "<a href=\"https://colab.research.google.com/github/krishbhowmick/Machine_Learning/blob/master/02_LogisticRegression_WineQuality.ipynb\" target=\"_parent\"><img src=\"https://colab.research.google.com/assets/colab-badge.svg\" alt=\"Open In Colab\"/></a>"
      ]
    },
    {
      "cell_type": "code",
      "metadata": {
        "id": "fW7aHn6m5q6T",
        "colab_type": "code",
        "colab": {
          "base_uri": "https://localhost:8080/",
          "height": 34
        },
        "outputId": "73c527cc-e10a-4b5a-d671-a15838588eb0"
      },
      "source": [
        "from google.colab import drive\n",
        "drive.mount('/content/drive/')"
      ],
      "execution_count": 73,
      "outputs": [
        {
          "output_type": "stream",
          "text": [
            "Drive already mounted at /content/drive/; to attempt to forcibly remount, call drive.mount(\"/content/drive/\", force_remount=True).\n"
          ],
          "name": "stdout"
        }
      ]
    },
    {
      "cell_type": "code",
      "metadata": {
        "id": "sED39UVC57ML",
        "colab_type": "code",
        "colab": {}
      },
      "source": [
        "import numpy as np\n",
        "import pandas as pd\n",
        "import tensorflow as tf\n",
        "import matplotlib.pyplot as plt "
      ],
      "execution_count": 74,
      "outputs": []
    },
    {
      "cell_type": "code",
      "metadata": {
        "id": "0BhwtB0BjZoQ",
        "colab_type": "code",
        "colab": {
          "base_uri": "https://localhost:8080/",
          "height": 34
        },
        "outputId": "8a82d844-71c8-46e0-a771-d297e8d756eb"
      },
      "source": [
        "#path = '/content/drive/My Drive/IITB_ML/IITB_ML_Data/winequality-red.csv'    # ADD path/to/dataset\n",
        "path = '/content/drive/My Drive/ML_Code/10_Logistic Regreetion/Module 10 Assisgnment - Dataset+Solution/Train_pjb2QcD.csv'  \n",
        "\n",
        "# Convert the data to a Pandas data frame\n",
        "data = pd.read_csv(path)\n",
        "data.shape"
      ],
      "execution_count": 75,
      "outputs": [
        {
          "output_type": "execute_result",
          "data": {
            "text/plain": [
              "(8844, 19)"
            ]
          },
          "metadata": {
            "tags": []
          },
          "execution_count": 75
        }
      ]
    },
    {
      "cell_type": "code",
      "metadata": {
        "id": "s83KLd0RURMx",
        "colab_type": "code",
        "colab": {
          "base_uri": "https://localhost:8080/",
          "height": 224
        },
        "outputId": "b8c820de-83c5-42c7-a331-a86366e3ee30"
      },
      "source": [
        "# Shuffle the data\n",
        "data = data.sample(frac=1)\n",
        "\n",
        "# Print the first 5 rows\n",
        "data.head()"
      ],
      "execution_count": 76,
      "outputs": [
        {
          "output_type": "execute_result",
          "data": {
            "text/html": [
              "<div>\n",
              "<style scoped>\n",
              "    .dataframe tbody tr th:only-of-type {\n",
              "        vertical-align: middle;\n",
              "    }\n",
              "\n",
              "    .dataframe tbody tr th {\n",
              "        vertical-align: top;\n",
              "    }\n",
              "\n",
              "    .dataframe thead th {\n",
              "        text-align: right;\n",
              "    }\n",
              "</style>\n",
              "<table border=\"1\" class=\"dataframe\">\n",
              "  <thead>\n",
              "    <tr style=\"text-align: right;\">\n",
              "      <th></th>\n",
              "      <th>ID</th>\n",
              "      <th>Office_PIN</th>\n",
              "      <th>Applicant_City_PIN</th>\n",
              "      <th>Applicant_Gender</th>\n",
              "      <th>Applicant_Marital_Status</th>\n",
              "      <th>Applicant_Occupation</th>\n",
              "      <th>Applicant_Qualification</th>\n",
              "      <th>Manager_Joining_Designation</th>\n",
              "      <th>Manager_Current_Designation</th>\n",
              "      <th>Manager_Grade</th>\n",
              "      <th>Manager_Status</th>\n",
              "      <th>Manager_Gender</th>\n",
              "      <th>Manager_Num_Application</th>\n",
              "      <th>Manager_Num_Coded</th>\n",
              "      <th>Manager_Business</th>\n",
              "      <th>Manager_Num_Products</th>\n",
              "      <th>Manager_Business2</th>\n",
              "      <th>Manager_Num_Products2</th>\n",
              "      <th>Business_Sourced</th>\n",
              "    </tr>\n",
              "  </thead>\n",
              "  <tbody>\n",
              "    <tr>\n",
              "      <th>4111</th>\n",
              "      <td>FIN1004435</td>\n",
              "      <td>226001</td>\n",
              "      <td>226016</td>\n",
              "      <td>M</td>\n",
              "      <td>M</td>\n",
              "      <td>Business</td>\n",
              "      <td>Class XII</td>\n",
              "      <td>Level 1</td>\n",
              "      <td>Level 1</td>\n",
              "      <td>2.0</td>\n",
              "      <td>Confirmation</td>\n",
              "      <td>M</td>\n",
              "      <td>2.0</td>\n",
              "      <td>1.0</td>\n",
              "      <td>105029.0</td>\n",
              "      <td>5.0</td>\n",
              "      <td>105029.0</td>\n",
              "      <td>5.0</td>\n",
              "      <td>0</td>\n",
              "    </tr>\n",
              "    <tr>\n",
              "      <th>7174</th>\n",
              "      <td>FIN1007670</td>\n",
              "      <td>208001</td>\n",
              "      <td>208012</td>\n",
              "      <td>M</td>\n",
              "      <td>M</td>\n",
              "      <td>Salaried</td>\n",
              "      <td>Class XII</td>\n",
              "      <td>Level 2</td>\n",
              "      <td>Level 2</td>\n",
              "      <td>3.0</td>\n",
              "      <td>Probation</td>\n",
              "      <td>F</td>\n",
              "      <td>4.0</td>\n",
              "      <td>3.0</td>\n",
              "      <td>100423.0</td>\n",
              "      <td>4.0</td>\n",
              "      <td>100423.0</td>\n",
              "      <td>4.0</td>\n",
              "      <td>1</td>\n",
              "    </tr>\n",
              "    <tr>\n",
              "      <th>419</th>\n",
              "      <td>FIN1000469</td>\n",
              "      <td>800001</td>\n",
              "      <td>844121</td>\n",
              "      <td>M</td>\n",
              "      <td>M</td>\n",
              "      <td>Salaried</td>\n",
              "      <td>Class XII</td>\n",
              "      <td>Level 1</td>\n",
              "      <td>Level 1</td>\n",
              "      <td>2.0</td>\n",
              "      <td>Confirmation</td>\n",
              "      <td>M</td>\n",
              "      <td>5.0</td>\n",
              "      <td>1.0</td>\n",
              "      <td>73488.0</td>\n",
              "      <td>3.0</td>\n",
              "      <td>73488.0</td>\n",
              "      <td>3.0</td>\n",
              "      <td>0</td>\n",
              "    </tr>\n",
              "    <tr>\n",
              "      <th>4294</th>\n",
              "      <td>FIN1004631</td>\n",
              "      <td>452003</td>\n",
              "      <td>452001</td>\n",
              "      <td>M</td>\n",
              "      <td>M</td>\n",
              "      <td>Others</td>\n",
              "      <td>Class XII</td>\n",
              "      <td>Level 4</td>\n",
              "      <td>Level 4</td>\n",
              "      <td>6.0</td>\n",
              "      <td>Probation</td>\n",
              "      <td>M</td>\n",
              "      <td>7.0</td>\n",
              "      <td>4.0</td>\n",
              "      <td>0.0</td>\n",
              "      <td>0.0</td>\n",
              "      <td>0.0</td>\n",
              "      <td>0.0</td>\n",
              "      <td>0</td>\n",
              "    </tr>\n",
              "    <tr>\n",
              "      <th>7474</th>\n",
              "      <td>FIN1007991</td>\n",
              "      <td>141001</td>\n",
              "      <td>141008</td>\n",
              "      <td>M</td>\n",
              "      <td>M</td>\n",
              "      <td>NaN</td>\n",
              "      <td>Graduate</td>\n",
              "      <td>Level 2</td>\n",
              "      <td>Level 2</td>\n",
              "      <td>3.0</td>\n",
              "      <td>Probation</td>\n",
              "      <td>M</td>\n",
              "      <td>1.0</td>\n",
              "      <td>0.0</td>\n",
              "      <td>0.0</td>\n",
              "      <td>0.0</td>\n",
              "      <td>0.0</td>\n",
              "      <td>0.0</td>\n",
              "      <td>0</td>\n",
              "    </tr>\n",
              "  </tbody>\n",
              "</table>\n",
              "</div>"
            ],
            "text/plain": [
              "              ID  Office_PIN  ...  Manager_Num_Products2 Business_Sourced\n",
              "4111  FIN1004435      226001  ...                    5.0                0\n",
              "7174  FIN1007670      208001  ...                    4.0                1\n",
              "419   FIN1000469      800001  ...                    3.0                0\n",
              "4294  FIN1004631      452003  ...                    0.0                0\n",
              "7474  FIN1007991      141001  ...                    0.0                0\n",
              "\n",
              "[5 rows x 19 columns]"
            ]
          },
          "metadata": {
            "tags": []
          },
          "execution_count": 76
        }
      ]
    },
    {
      "cell_type": "code",
      "metadata": {
        "id": "9UaKe2G_wEmb",
        "colab_type": "code",
        "colab": {
          "base_uri": "https://localhost:8080/",
          "height": 410
        },
        "outputId": "eba7ce6a-39e3-40d3-8f39-5446eb46c2cf"
      },
      "source": [
        "data.describe(include='all')"
      ],
      "execution_count": 77,
      "outputs": [
        {
          "output_type": "execute_result",
          "data": {
            "text/html": [
              "<div>\n",
              "<style scoped>\n",
              "    .dataframe tbody tr th:only-of-type {\n",
              "        vertical-align: middle;\n",
              "    }\n",
              "\n",
              "    .dataframe tbody tr th {\n",
              "        vertical-align: top;\n",
              "    }\n",
              "\n",
              "    .dataframe thead th {\n",
              "        text-align: right;\n",
              "    }\n",
              "</style>\n",
              "<table border=\"1\" class=\"dataframe\">\n",
              "  <thead>\n",
              "    <tr style=\"text-align: right;\">\n",
              "      <th></th>\n",
              "      <th>ID</th>\n",
              "      <th>Office_PIN</th>\n",
              "      <th>Applicant_City_PIN</th>\n",
              "      <th>Applicant_Gender</th>\n",
              "      <th>Applicant_Marital_Status</th>\n",
              "      <th>Applicant_Occupation</th>\n",
              "      <th>Applicant_Qualification</th>\n",
              "      <th>Manager_Joining_Designation</th>\n",
              "      <th>Manager_Current_Designation</th>\n",
              "      <th>Manager_Grade</th>\n",
              "      <th>Manager_Status</th>\n",
              "      <th>Manager_Gender</th>\n",
              "      <th>Manager_Num_Application</th>\n",
              "      <th>Manager_Num_Coded</th>\n",
              "      <th>Manager_Business</th>\n",
              "      <th>Manager_Num_Products</th>\n",
              "      <th>Manager_Business2</th>\n",
              "      <th>Manager_Num_Products2</th>\n",
              "      <th>Business_Sourced</th>\n",
              "    </tr>\n",
              "  </thead>\n",
              "  <tbody>\n",
              "    <tr>\n",
              "      <th>count</th>\n",
              "      <td>8844</td>\n",
              "      <td>8844.000000</td>\n",
              "      <td>8844.000000</td>\n",
              "      <td>8791</td>\n",
              "      <td>8785</td>\n",
              "      <td>7754</td>\n",
              "      <td>8773</td>\n",
              "      <td>8844</td>\n",
              "      <td>8844</td>\n",
              "      <td>8844.000000</td>\n",
              "      <td>8844</td>\n",
              "      <td>8844</td>\n",
              "      <td>8844.000000</td>\n",
              "      <td>8844.000000</td>\n",
              "      <td>8.844000e+03</td>\n",
              "      <td>8844.000000</td>\n",
              "      <td>8.844000e+03</td>\n",
              "      <td>8844.000000</td>\n",
              "      <td>8844.000000</td>\n",
              "    </tr>\n",
              "    <tr>\n",
              "      <th>unique</th>\n",
              "      <td>8844</td>\n",
              "      <td>NaN</td>\n",
              "      <td>NaN</td>\n",
              "      <td>2</td>\n",
              "      <td>4</td>\n",
              "      <td>5</td>\n",
              "      <td>10</td>\n",
              "      <td>8</td>\n",
              "      <td>5</td>\n",
              "      <td>NaN</td>\n",
              "      <td>2</td>\n",
              "      <td>2</td>\n",
              "      <td>NaN</td>\n",
              "      <td>NaN</td>\n",
              "      <td>NaN</td>\n",
              "      <td>NaN</td>\n",
              "      <td>NaN</td>\n",
              "      <td>NaN</td>\n",
              "      <td>NaN</td>\n",
              "    </tr>\n",
              "    <tr>\n",
              "      <th>top</th>\n",
              "      <td>FIN1002737</td>\n",
              "      <td>NaN</td>\n",
              "      <td>NaN</td>\n",
              "      <td>M</td>\n",
              "      <td>M</td>\n",
              "      <td>Salaried</td>\n",
              "      <td>Class XII</td>\n",
              "      <td>Level 1</td>\n",
              "      <td>Level 2</td>\n",
              "      <td>NaN</td>\n",
              "      <td>Confirmation</td>\n",
              "      <td>M</td>\n",
              "      <td>NaN</td>\n",
              "      <td>NaN</td>\n",
              "      <td>NaN</td>\n",
              "      <td>NaN</td>\n",
              "      <td>NaN</td>\n",
              "      <td>NaN</td>\n",
              "      <td>NaN</td>\n",
              "    </tr>\n",
              "    <tr>\n",
              "      <th>freq</th>\n",
              "      <td>1</td>\n",
              "      <td>NaN</td>\n",
              "      <td>NaN</td>\n",
              "      <td>6656</td>\n",
              "      <td>5733</td>\n",
              "      <td>3546</td>\n",
              "      <td>5426</td>\n",
              "      <td>4632</td>\n",
              "      <td>3208</td>\n",
              "      <td>NaN</td>\n",
              "      <td>5277</td>\n",
              "      <td>7627</td>\n",
              "      <td>NaN</td>\n",
              "      <td>NaN</td>\n",
              "      <td>NaN</td>\n",
              "      <td>NaN</td>\n",
              "      <td>NaN</td>\n",
              "      <td>NaN</td>\n",
              "      <td>NaN</td>\n",
              "    </tr>\n",
              "    <tr>\n",
              "      <th>mean</th>\n",
              "      <td>NaN</td>\n",
              "      <td>450714.378562</td>\n",
              "      <td>452638.591022</td>\n",
              "      <td>NaN</td>\n",
              "      <td>NaN</td>\n",
              "      <td>NaN</td>\n",
              "      <td>NaN</td>\n",
              "      <td>NaN</td>\n",
              "      <td>NaN</td>\n",
              "      <td>3.264134</td>\n",
              "      <td>NaN</td>\n",
              "      <td>NaN</td>\n",
              "      <td>1.939733</td>\n",
              "      <td>0.758933</td>\n",
              "      <td>1.843710e+05</td>\n",
              "      <td>7.152307</td>\n",
              "      <td>1.829263e+05</td>\n",
              "      <td>7.131275</td>\n",
              "      <td>0.342718</td>\n",
              "    </tr>\n",
              "    <tr>\n",
              "      <th>std</th>\n",
              "      <td>NaN</td>\n",
              "      <td>234079.460837</td>\n",
              "      <td>238045.727919</td>\n",
              "      <td>NaN</td>\n",
              "      <td>NaN</td>\n",
              "      <td>NaN</td>\n",
              "      <td>NaN</td>\n",
              "      <td>NaN</td>\n",
              "      <td>NaN</td>\n",
              "      <td>1.137449</td>\n",
              "      <td>NaN</td>\n",
              "      <td>NaN</td>\n",
              "      <td>2.150529</td>\n",
              "      <td>1.188644</td>\n",
              "      <td>2.747163e+05</td>\n",
              "      <td>8.439351</td>\n",
              "      <td>2.718021e+05</td>\n",
              "      <td>8.423597</td>\n",
              "      <td>0.474645</td>\n",
              "    </tr>\n",
              "    <tr>\n",
              "      <th>min</th>\n",
              "      <td>NaN</td>\n",
              "      <td>110005.000000</td>\n",
              "      <td>110001.000000</td>\n",
              "      <td>NaN</td>\n",
              "      <td>NaN</td>\n",
              "      <td>NaN</td>\n",
              "      <td>NaN</td>\n",
              "      <td>NaN</td>\n",
              "      <td>NaN</td>\n",
              "      <td>1.000000</td>\n",
              "      <td>NaN</td>\n",
              "      <td>NaN</td>\n",
              "      <td>0.000000</td>\n",
              "      <td>0.000000</td>\n",
              "      <td>-2.652890e+05</td>\n",
              "      <td>0.000000</td>\n",
              "      <td>-2.652890e+05</td>\n",
              "      <td>0.000000</td>\n",
              "      <td>0.000000</td>\n",
              "    </tr>\n",
              "    <tr>\n",
              "      <th>25%</th>\n",
              "      <td>NaN</td>\n",
              "      <td>226001.000000</td>\n",
              "      <td>226002.000000</td>\n",
              "      <td>NaN</td>\n",
              "      <td>NaN</td>\n",
              "      <td>NaN</td>\n",
              "      <td>NaN</td>\n",
              "      <td>NaN</td>\n",
              "      <td>NaN</td>\n",
              "      <td>2.000000</td>\n",
              "      <td>NaN</td>\n",
              "      <td>NaN</td>\n",
              "      <td>0.000000</td>\n",
              "      <td>0.000000</td>\n",
              "      <td>0.000000e+00</td>\n",
              "      <td>0.000000</td>\n",
              "      <td>0.000000e+00</td>\n",
              "      <td>0.000000</td>\n",
              "      <td>0.000000</td>\n",
              "    </tr>\n",
              "    <tr>\n",
              "      <th>50%</th>\n",
              "      <td>NaN</td>\n",
              "      <td>416001.000000</td>\n",
              "      <td>422001.000000</td>\n",
              "      <td>NaN</td>\n",
              "      <td>NaN</td>\n",
              "      <td>NaN</td>\n",
              "      <td>NaN</td>\n",
              "      <td>NaN</td>\n",
              "      <td>NaN</td>\n",
              "      <td>3.000000</td>\n",
              "      <td>NaN</td>\n",
              "      <td>NaN</td>\n",
              "      <td>1.000000</td>\n",
              "      <td>0.000000</td>\n",
              "      <td>1.021780e+05</td>\n",
              "      <td>5.000000</td>\n",
              "      <td>1.017140e+05</td>\n",
              "      <td>5.000000</td>\n",
              "      <td>0.000000</td>\n",
              "    </tr>\n",
              "    <tr>\n",
              "      <th>75%</th>\n",
              "      <td>NaN</td>\n",
              "      <td>695014.000000</td>\n",
              "      <td>695009.000000</td>\n",
              "      <td>NaN</td>\n",
              "      <td>NaN</td>\n",
              "      <td>NaN</td>\n",
              "      <td>NaN</td>\n",
              "      <td>NaN</td>\n",
              "      <td>NaN</td>\n",
              "      <td>4.000000</td>\n",
              "      <td>NaN</td>\n",
              "      <td>NaN</td>\n",
              "      <td>3.000000</td>\n",
              "      <td>1.000000</td>\n",
              "      <td>2.471165e+05</td>\n",
              "      <td>11.000000</td>\n",
              "      <td>2.464612e+05</td>\n",
              "      <td>11.000000</td>\n",
              "      <td>1.000000</td>\n",
              "    </tr>\n",
              "    <tr>\n",
              "      <th>max</th>\n",
              "      <td>NaN</td>\n",
              "      <td>851101.000000</td>\n",
              "      <td>995657.000000</td>\n",
              "      <td>NaN</td>\n",
              "      <td>NaN</td>\n",
              "      <td>NaN</td>\n",
              "      <td>NaN</td>\n",
              "      <td>NaN</td>\n",
              "      <td>NaN</td>\n",
              "      <td>10.000000</td>\n",
              "      <td>NaN</td>\n",
              "      <td>NaN</td>\n",
              "      <td>22.000000</td>\n",
              "      <td>9.000000</td>\n",
              "      <td>3.578265e+06</td>\n",
              "      <td>101.000000</td>\n",
              "      <td>3.578265e+06</td>\n",
              "      <td>101.000000</td>\n",
              "      <td>1.000000</td>\n",
              "    </tr>\n",
              "  </tbody>\n",
              "</table>\n",
              "</div>"
            ],
            "text/plain": [
              "                ID     Office_PIN  ...  Manager_Num_Products2 Business_Sourced\n",
              "count         8844    8844.000000  ...            8844.000000      8844.000000\n",
              "unique        8844            NaN  ...                    NaN              NaN\n",
              "top     FIN1002737            NaN  ...                    NaN              NaN\n",
              "freq             1            NaN  ...                    NaN              NaN\n",
              "mean           NaN  450714.378562  ...               7.131275         0.342718\n",
              "std            NaN  234079.460837  ...               8.423597         0.474645\n",
              "min            NaN  110005.000000  ...               0.000000         0.000000\n",
              "25%            NaN  226001.000000  ...               0.000000         0.000000\n",
              "50%            NaN  416001.000000  ...               5.000000         0.000000\n",
              "75%            NaN  695014.000000  ...              11.000000         1.000000\n",
              "max            NaN  851101.000000  ...             101.000000         1.000000\n",
              "\n",
              "[11 rows x 19 columns]"
            ]
          },
          "metadata": {
            "tags": []
          },
          "execution_count": 77
        }
      ]
    },
    {
      "cell_type": "code",
      "metadata": {
        "id": "vHDAw-USwEuI",
        "colab_type": "code",
        "colab": {
          "base_uri": "https://localhost:8080/",
          "height": 357
        },
        "outputId": "484212b9-5319-47aa-d8f5-0a22f8d5d646"
      },
      "source": [
        "data.isnull().sum()"
      ],
      "execution_count": 78,
      "outputs": [
        {
          "output_type": "execute_result",
          "data": {
            "text/plain": [
              "ID                                0\n",
              "Office_PIN                        0\n",
              "Applicant_City_PIN                0\n",
              "Applicant_Gender                 53\n",
              "Applicant_Marital_Status         59\n",
              "Applicant_Occupation           1090\n",
              "Applicant_Qualification          71\n",
              "Manager_Joining_Designation       0\n",
              "Manager_Current_Designation       0\n",
              "Manager_Grade                     0\n",
              "Manager_Status                    0\n",
              "Manager_Gender                    0\n",
              "Manager_Num_Application           0\n",
              "Manager_Num_Coded                 0\n",
              "Manager_Business                  0\n",
              "Manager_Num_Products              0\n",
              "Manager_Business2                 0\n",
              "Manager_Num_Products2             0\n",
              "Business_Sourced                  0\n",
              "dtype: int64"
            ]
          },
          "metadata": {
            "tags": []
          },
          "execution_count": 78
        }
      ]
    },
    {
      "cell_type": "code",
      "metadata": {
        "id": "gogpWJo_HlgH",
        "colab_type": "code",
        "colab": {
          "base_uri": "https://localhost:8080/",
          "height": 357
        },
        "outputId": "d10de655-ae0d-416a-b258-5598906135c4"
      },
      "source": [
        "data.dtypes"
      ],
      "execution_count": 79,
      "outputs": [
        {
          "output_type": "execute_result",
          "data": {
            "text/plain": [
              "ID                              object\n",
              "Office_PIN                       int64\n",
              "Applicant_City_PIN               int64\n",
              "Applicant_Gender                object\n",
              "Applicant_Marital_Status        object\n",
              "Applicant_Occupation            object\n",
              "Applicant_Qualification         object\n",
              "Manager_Joining_Designation     object\n",
              "Manager_Current_Designation     object\n",
              "Manager_Grade                  float64\n",
              "Manager_Status                  object\n",
              "Manager_Gender                  object\n",
              "Manager_Num_Application        float64\n",
              "Manager_Num_Coded              float64\n",
              "Manager_Business               float64\n",
              "Manager_Num_Products           float64\n",
              "Manager_Business2              float64\n",
              "Manager_Num_Products2          float64\n",
              "Business_Sourced                 int64\n",
              "dtype: object"
            ]
          },
          "metadata": {
            "tags": []
          },
          "execution_count": 79
        }
      ]
    },
    {
      "cell_type": "code",
      "metadata": {
        "id": "4wvoNKN2Hlk3",
        "colab_type": "code",
        "colab": {
          "base_uri": "https://localhost:8080/",
          "height": 638
        },
        "outputId": "da2eac22-5357-4ba2-f146-2dd0b1579851"
      },
      "source": [
        "temp = pd.DataFrame(index=data.columns)\n",
        "temp['data_type'] = data.dtypes\n",
        "temp['null_count'] = data.isnull().sum()\n",
        "temp['unique_count'] = data.nunique()\n",
        "temp"
      ],
      "execution_count": 80,
      "outputs": [
        {
          "output_type": "execute_result",
          "data": {
            "text/html": [
              "<div>\n",
              "<style scoped>\n",
              "    .dataframe tbody tr th:only-of-type {\n",
              "        vertical-align: middle;\n",
              "    }\n",
              "\n",
              "    .dataframe tbody tr th {\n",
              "        vertical-align: top;\n",
              "    }\n",
              "\n",
              "    .dataframe thead th {\n",
              "        text-align: right;\n",
              "    }\n",
              "</style>\n",
              "<table border=\"1\" class=\"dataframe\">\n",
              "  <thead>\n",
              "    <tr style=\"text-align: right;\">\n",
              "      <th></th>\n",
              "      <th>data_type</th>\n",
              "      <th>null_count</th>\n",
              "      <th>unique_count</th>\n",
              "    </tr>\n",
              "  </thead>\n",
              "  <tbody>\n",
              "    <tr>\n",
              "      <th>ID</th>\n",
              "      <td>object</td>\n",
              "      <td>0</td>\n",
              "      <td>8844</td>\n",
              "    </tr>\n",
              "    <tr>\n",
              "      <th>Office_PIN</th>\n",
              "      <td>int64</td>\n",
              "      <td>0</td>\n",
              "      <td>98</td>\n",
              "    </tr>\n",
              "    <tr>\n",
              "      <th>Applicant_City_PIN</th>\n",
              "      <td>int64</td>\n",
              "      <td>0</td>\n",
              "      <td>2858</td>\n",
              "    </tr>\n",
              "    <tr>\n",
              "      <th>Applicant_Gender</th>\n",
              "      <td>object</td>\n",
              "      <td>53</td>\n",
              "      <td>2</td>\n",
              "    </tr>\n",
              "    <tr>\n",
              "      <th>Applicant_Marital_Status</th>\n",
              "      <td>object</td>\n",
              "      <td>59</td>\n",
              "      <td>4</td>\n",
              "    </tr>\n",
              "    <tr>\n",
              "      <th>Applicant_Occupation</th>\n",
              "      <td>object</td>\n",
              "      <td>1090</td>\n",
              "      <td>5</td>\n",
              "    </tr>\n",
              "    <tr>\n",
              "      <th>Applicant_Qualification</th>\n",
              "      <td>object</td>\n",
              "      <td>71</td>\n",
              "      <td>10</td>\n",
              "    </tr>\n",
              "    <tr>\n",
              "      <th>Manager_Joining_Designation</th>\n",
              "      <td>object</td>\n",
              "      <td>0</td>\n",
              "      <td>8</td>\n",
              "    </tr>\n",
              "    <tr>\n",
              "      <th>Manager_Current_Designation</th>\n",
              "      <td>object</td>\n",
              "      <td>0</td>\n",
              "      <td>5</td>\n",
              "    </tr>\n",
              "    <tr>\n",
              "      <th>Manager_Grade</th>\n",
              "      <td>float64</td>\n",
              "      <td>0</td>\n",
              "      <td>10</td>\n",
              "    </tr>\n",
              "    <tr>\n",
              "      <th>Manager_Status</th>\n",
              "      <td>object</td>\n",
              "      <td>0</td>\n",
              "      <td>2</td>\n",
              "    </tr>\n",
              "    <tr>\n",
              "      <th>Manager_Gender</th>\n",
              "      <td>object</td>\n",
              "      <td>0</td>\n",
              "      <td>2</td>\n",
              "    </tr>\n",
              "    <tr>\n",
              "      <th>Manager_Num_Application</th>\n",
              "      <td>float64</td>\n",
              "      <td>0</td>\n",
              "      <td>17</td>\n",
              "    </tr>\n",
              "    <tr>\n",
              "      <th>Manager_Num_Coded</th>\n",
              "      <td>float64</td>\n",
              "      <td>0</td>\n",
              "      <td>10</td>\n",
              "    </tr>\n",
              "    <tr>\n",
              "      <th>Manager_Business</th>\n",
              "      <td>float64</td>\n",
              "      <td>0</td>\n",
              "      <td>3747</td>\n",
              "    </tr>\n",
              "    <tr>\n",
              "      <th>Manager_Num_Products</th>\n",
              "      <td>float64</td>\n",
              "      <td>0</td>\n",
              "      <td>57</td>\n",
              "    </tr>\n",
              "    <tr>\n",
              "      <th>Manager_Business2</th>\n",
              "      <td>float64</td>\n",
              "      <td>0</td>\n",
              "      <td>3743</td>\n",
              "    </tr>\n",
              "    <tr>\n",
              "      <th>Manager_Num_Products2</th>\n",
              "      <td>float64</td>\n",
              "      <td>0</td>\n",
              "      <td>57</td>\n",
              "    </tr>\n",
              "    <tr>\n",
              "      <th>Business_Sourced</th>\n",
              "      <td>int64</td>\n",
              "      <td>0</td>\n",
              "      <td>2</td>\n",
              "    </tr>\n",
              "  </tbody>\n",
              "</table>\n",
              "</div>"
            ],
            "text/plain": [
              "                            data_type  null_count  unique_count\n",
              "ID                             object           0          8844\n",
              "Office_PIN                      int64           0            98\n",
              "Applicant_City_PIN              int64           0          2858\n",
              "Applicant_Gender               object          53             2\n",
              "Applicant_Marital_Status       object          59             4\n",
              "Applicant_Occupation           object        1090             5\n",
              "Applicant_Qualification        object          71            10\n",
              "Manager_Joining_Designation    object           0             8\n",
              "Manager_Current_Designation    object           0             5\n",
              "Manager_Grade                 float64           0            10\n",
              "Manager_Status                 object           0             2\n",
              "Manager_Gender                 object           0             2\n",
              "Manager_Num_Application       float64           0            17\n",
              "Manager_Num_Coded             float64           0            10\n",
              "Manager_Business              float64           0          3747\n",
              "Manager_Num_Products          float64           0            57\n",
              "Manager_Business2             float64           0          3743\n",
              "Manager_Num_Products2         float64           0            57\n",
              "Business_Sourced                int64           0             2"
            ]
          },
          "metadata": {
            "tags": []
          },
          "execution_count": 80
        }
      ]
    },
    {
      "cell_type": "code",
      "metadata": {
        "id": "_Zd1eeeLxf16",
        "colab_type": "code",
        "colab": {
          "base_uri": "https://localhost:8080/",
          "height": 204
        },
        "outputId": "e78e5f90-c346-418c-db7d-9f1771cb5543"
      },
      "source": [
        "data[['Applicant_Gender','Applicant_Marital_Status', 'Applicant_Occupation', 'Applicant_Qualification']].head()"
      ],
      "execution_count": 81,
      "outputs": [
        {
          "output_type": "execute_result",
          "data": {
            "text/html": [
              "<div>\n",
              "<style scoped>\n",
              "    .dataframe tbody tr th:only-of-type {\n",
              "        vertical-align: middle;\n",
              "    }\n",
              "\n",
              "    .dataframe tbody tr th {\n",
              "        vertical-align: top;\n",
              "    }\n",
              "\n",
              "    .dataframe thead th {\n",
              "        text-align: right;\n",
              "    }\n",
              "</style>\n",
              "<table border=\"1\" class=\"dataframe\">\n",
              "  <thead>\n",
              "    <tr style=\"text-align: right;\">\n",
              "      <th></th>\n",
              "      <th>Applicant_Gender</th>\n",
              "      <th>Applicant_Marital_Status</th>\n",
              "      <th>Applicant_Occupation</th>\n",
              "      <th>Applicant_Qualification</th>\n",
              "    </tr>\n",
              "  </thead>\n",
              "  <tbody>\n",
              "    <tr>\n",
              "      <th>4111</th>\n",
              "      <td>M</td>\n",
              "      <td>M</td>\n",
              "      <td>Business</td>\n",
              "      <td>Class XII</td>\n",
              "    </tr>\n",
              "    <tr>\n",
              "      <th>7174</th>\n",
              "      <td>M</td>\n",
              "      <td>M</td>\n",
              "      <td>Salaried</td>\n",
              "      <td>Class XII</td>\n",
              "    </tr>\n",
              "    <tr>\n",
              "      <th>419</th>\n",
              "      <td>M</td>\n",
              "      <td>M</td>\n",
              "      <td>Salaried</td>\n",
              "      <td>Class XII</td>\n",
              "    </tr>\n",
              "    <tr>\n",
              "      <th>4294</th>\n",
              "      <td>M</td>\n",
              "      <td>M</td>\n",
              "      <td>Others</td>\n",
              "      <td>Class XII</td>\n",
              "    </tr>\n",
              "    <tr>\n",
              "      <th>7474</th>\n",
              "      <td>M</td>\n",
              "      <td>M</td>\n",
              "      <td>NaN</td>\n",
              "      <td>Graduate</td>\n",
              "    </tr>\n",
              "  </tbody>\n",
              "</table>\n",
              "</div>"
            ],
            "text/plain": [
              "     Applicant_Gender  ... Applicant_Qualification\n",
              "4111                M  ...               Class XII\n",
              "7174                M  ...               Class XII\n",
              "419                 M  ...               Class XII\n",
              "4294                M  ...               Class XII\n",
              "7474                M  ...                Graduate\n",
              "\n",
              "[5 rows x 4 columns]"
            ]
          },
          "metadata": {
            "tags": []
          },
          "execution_count": 81
        }
      ]
    },
    {
      "cell_type": "code",
      "metadata": {
        "id": "Fi475pJLxxWP",
        "colab_type": "code",
        "colab": {
          "base_uri": "https://localhost:8080/",
          "height": 68
        },
        "outputId": "867c2651-2c65-416a-a075-fdabf1ca4198"
      },
      "source": [
        "data['Applicant_Gender'].value_counts()"
      ],
      "execution_count": 82,
      "outputs": [
        {
          "output_type": "execute_result",
          "data": {
            "text/plain": [
              "M    6656\n",
              "F    2135\n",
              "Name: Applicant_Gender, dtype: int64"
            ]
          },
          "metadata": {
            "tags": []
          },
          "execution_count": 82
        }
      ]
    },
    {
      "cell_type": "code",
      "metadata": {
        "id": "Q_QJWHKwzvOc",
        "colab_type": "code",
        "colab": {}
      },
      "source": [
        "data['Applicant_Gender'].fillna('M', inplace=True)"
      ],
      "execution_count": 83,
      "outputs": []
    },
    {
      "cell_type": "code",
      "metadata": {
        "id": "ktmk0dU3xxeR",
        "colab_type": "code",
        "colab": {
          "base_uri": "https://localhost:8080/",
          "height": 102
        },
        "outputId": "6fc60eb8-0d1a-4d51-bcf2-9fdf78ad794f"
      },
      "source": [
        "data['Applicant_Marital_Status'].value_counts()"
      ],
      "execution_count": 84,
      "outputs": [
        {
          "output_type": "execute_result",
          "data": {
            "text/plain": [
              "M    5733\n",
              "S    3042\n",
              "W       6\n",
              "D       4\n",
              "Name: Applicant_Marital_Status, dtype: int64"
            ]
          },
          "metadata": {
            "tags": []
          },
          "execution_count": 84
        }
      ]
    },
    {
      "cell_type": "code",
      "metadata": {
        "id": "GCQinpe6zwYh",
        "colab_type": "code",
        "colab": {}
      },
      "source": [
        "data['Applicant_Marital_Status'].fillna('M', inplace=True)"
      ],
      "execution_count": 85,
      "outputs": []
    },
    {
      "cell_type": "code",
      "metadata": {
        "id": "EAfIrF_Sxxsh",
        "colab_type": "code",
        "colab": {
          "base_uri": "https://localhost:8080/",
          "height": 119
        },
        "outputId": "9a93abbb-2396-425f-8500-07bab3c0f101"
      },
      "source": [
        "data['Applicant_Occupation'].value_counts()"
      ],
      "execution_count": 86,
      "outputs": [
        {
          "output_type": "execute_result",
          "data": {
            "text/plain": [
              "Salaried         3546\n",
              "Business         2157\n",
              "Others           1809\n",
              "Self Employed     146\n",
              "Student            96\n",
              "Name: Applicant_Occupation, dtype: int64"
            ]
          },
          "metadata": {
            "tags": []
          },
          "execution_count": 86
        }
      ]
    },
    {
      "cell_type": "code",
      "metadata": {
        "id": "h7LcsEvbzxmc",
        "colab_type": "code",
        "colab": {}
      },
      "source": [
        "data['Applicant_Occupation'].fillna('Salaried', inplace=True)"
      ],
      "execution_count": 87,
      "outputs": []
    },
    {
      "cell_type": "code",
      "metadata": {
        "id": "32dwpxKQycFT",
        "colab_type": "code",
        "colab": {
          "base_uri": "https://localhost:8080/",
          "height": 204
        },
        "outputId": "02bf01fa-78af-433c-b0e3-6faf7d33531a"
      },
      "source": [
        "data['Applicant_Qualification'].value_counts()"
      ],
      "execution_count": 88,
      "outputs": [
        {
          "output_type": "execute_result",
          "data": {
            "text/plain": [
              "Class XII                                                           5426\n",
              "Graduate                                                            2958\n",
              "Class X                                                              195\n",
              "Others                                                               116\n",
              "Masters of Business Administration                                    71\n",
              "Associate / Fellow of Institute of Chartered Accountans of India       3\n",
              "Associate/Fellow of Insurance Institute of India                       1\n",
              "Associate/Fellow of Acturial Society of India                          1\n",
              "Associate/Fellow of Institute of Company Secretories of India          1\n",
              "Professional Qualification in Marketing                                1\n",
              "Name: Applicant_Qualification, dtype: int64"
            ]
          },
          "metadata": {
            "tags": []
          },
          "execution_count": 88
        }
      ]
    },
    {
      "cell_type": "code",
      "metadata": {
        "id": "vNFqtA-8zyu1",
        "colab_type": "code",
        "colab": {}
      },
      "source": [
        "data['Applicant_Qualification'].fillna('Class XII', inplace=True)"
      ],
      "execution_count": 89,
      "outputs": []
    },
    {
      "cell_type": "code",
      "metadata": {
        "id": "4dSFCQzu0ZCi",
        "colab_type": "code",
        "colab": {
          "base_uri": "https://localhost:8080/",
          "height": 357
        },
        "outputId": "ac164f63-0cf6-44da-df5c-2e59f0a5939d"
      },
      "source": [
        "data.isnull().sum()"
      ],
      "execution_count": 90,
      "outputs": [
        {
          "output_type": "execute_result",
          "data": {
            "text/plain": [
              "ID                             0\n",
              "Office_PIN                     0\n",
              "Applicant_City_PIN             0\n",
              "Applicant_Gender               0\n",
              "Applicant_Marital_Status       0\n",
              "Applicant_Occupation           0\n",
              "Applicant_Qualification        0\n",
              "Manager_Joining_Designation    0\n",
              "Manager_Current_Designation    0\n",
              "Manager_Grade                  0\n",
              "Manager_Status                 0\n",
              "Manager_Gender                 0\n",
              "Manager_Num_Application        0\n",
              "Manager_Num_Coded              0\n",
              "Manager_Business               0\n",
              "Manager_Num_Products           0\n",
              "Manager_Business2              0\n",
              "Manager_Num_Products2          0\n",
              "Business_Sourced               0\n",
              "dtype: int64"
            ]
          },
          "metadata": {
            "tags": []
          },
          "execution_count": 90
        }
      ]
    },
    {
      "cell_type": "code",
      "metadata": {
        "id": "fQcKcBX7L85n",
        "colab_type": "code",
        "colab": {
          "base_uri": "https://localhost:8080/",
          "height": 1000
        },
        "outputId": "e51a15b4-7126-44f5-b34d-bff9593afcb2"
      },
      "source": [
        "categorical_cols = ['Applicant_Gender','Applicant_Marital_Status','Applicant_Occupation','Applicant_Qualification',\n",
        "                   'Manager_Joining_Designation', 'Manager_Current_Designation', 'Manager_Status', 'Manager_Gender']\n",
        "\n",
        "for i in categorical_cols:\n",
        "    print('*****', i, '*****')\n",
        "    print(data[i].value_counts())\n",
        "    print('')"
      ],
      "execution_count": 91,
      "outputs": [
        {
          "output_type": "stream",
          "text": [
            "***** Applicant_Gender *****\n",
            "M    6709\n",
            "F    2135\n",
            "Name: Applicant_Gender, dtype: int64\n",
            "\n",
            "***** Applicant_Marital_Status *****\n",
            "M    5792\n",
            "S    3042\n",
            "W       6\n",
            "D       4\n",
            "Name: Applicant_Marital_Status, dtype: int64\n",
            "\n",
            "***** Applicant_Occupation *****\n",
            "Salaried         4636\n",
            "Business         2157\n",
            "Others           1809\n",
            "Self Employed     146\n",
            "Student            96\n",
            "Name: Applicant_Occupation, dtype: int64\n",
            "\n",
            "***** Applicant_Qualification *****\n",
            "Class XII                                                           5497\n",
            "Graduate                                                            2958\n",
            "Class X                                                              195\n",
            "Others                                                               116\n",
            "Masters of Business Administration                                    71\n",
            "Associate / Fellow of Institute of Chartered Accountans of India       3\n",
            "Associate/Fellow of Insurance Institute of India                       1\n",
            "Associate/Fellow of Acturial Society of India                          1\n",
            "Associate/Fellow of Institute of Company Secretories of India          1\n",
            "Professional Qualification in Marketing                                1\n",
            "Name: Applicant_Qualification, dtype: int64\n",
            "\n",
            "***** Manager_Joining_Designation *****\n",
            "Level 1    4632\n",
            "Level 2    2787\n",
            "Level 3    1146\n",
            "Level 4     200\n",
            "Other        58\n",
            "Level 6      18\n",
            "Level 7       2\n",
            "Level 5       1\n",
            "Name: Manager_Joining_Designation, dtype: int64\n",
            "\n",
            "***** Manager_Current_Designation *****\n",
            "Level 2    3208\n",
            "Level 1    2479\n",
            "Level 3    2033\n",
            "Level 4    1031\n",
            "Level 5      93\n",
            "Name: Manager_Current_Designation, dtype: int64\n",
            "\n",
            "***** Manager_Status *****\n",
            "Confirmation    5277\n",
            "Probation       3567\n",
            "Name: Manager_Status, dtype: int64\n",
            "\n",
            "***** Manager_Gender *****\n",
            "M    7627\n",
            "F    1217\n",
            "Name: Manager_Gender, dtype: int64\n",
            "\n"
          ],
          "name": "stdout"
        }
      ]
    },
    {
      "cell_type": "code",
      "metadata": {
        "id": "LHmGGBzrSQzQ",
        "colab_type": "code",
        "colab": {
          "base_uri": "https://localhost:8080/",
          "height": 86
        },
        "outputId": "8226e69e-83bc-4650-8315-2b8dec60c144"
      },
      "source": [
        "\"\"\"categorical_cols = ['Applicant_Gender','Applicant_Marital_Status','Applicant_Occupation','Applicant_Qualification',\n",
        "                   'Manager_Joining_Designation', 'Manager_Current_Designation', 'Manager_Status', 'Manager_Gender']\n",
        "\n",
        "for i in categorical_cols:\n",
        "  for j in categorical_cols:\n",
        "    fig, ax = plt.subplots()\n",
        "    ax.plot(data[i], data[j])\n",
        "    ax.set_title(i)\n",
        "\n",
        "    #data['region'].value_counts().plot(kind = 'bar') \"\"\""
      ],
      "execution_count": 92,
      "outputs": [
        {
          "output_type": "execute_result",
          "data": {
            "application/vnd.google.colaboratory.intrinsic+json": {
              "type": "string"
            },
            "text/plain": [
              "\"categorical_cols = ['Applicant_Gender','Applicant_Marital_Status','Applicant_Occupation','Applicant_Qualification',\\n                   'Manager_Joining_Designation', 'Manager_Current_Designation', 'Manager_Status', 'Manager_Gender']\\n\\nfor i in categorical_cols:\\n  for j in categorical_cols:\\n    fig, ax = plt.subplots()\\n    ax.plot(data[i], data[j])\\n    ax.set_title(i)\\n\\n    #data['region'].value_counts().plot(kind = 'bar') \""
            ]
          },
          "metadata": {
            "tags": []
          },
          "execution_count": 92
        }
      ]
    },
    {
      "cell_type": "code",
      "metadata": {
        "id": "pW5FPQ4ZBXrj",
        "colab_type": "code",
        "colab": {
          "base_uri": "https://localhost:8080/",
          "height": 34
        },
        "outputId": "f56865b3-8354-4011-fe70-179802333061"
      },
      "source": [
        "x = data.drop(['Business_Sourced'],axis=1)\n",
        "y = data['Business_Sourced']\n",
        "x.shape, y.shape"
      ],
      "execution_count": 102,
      "outputs": [
        {
          "output_type": "execute_result",
          "data": {
            "text/plain": [
              "((8844, 18), (8844,))"
            ]
          },
          "metadata": {
            "tags": []
          },
          "execution_count": 102
        }
      ]
    },
    {
      "cell_type": "code",
      "metadata": {
        "id": "XxcUniDk7zey",
        "colab_type": "code",
        "colab": {}
      },
      "source": [
        "x = pd.get_dummies(x)"
      ],
      "execution_count": 104,
      "outputs": []
    },
    {
      "cell_type": "code",
      "metadata": {
        "id": "LX8mk0y3Hlsa",
        "colab_type": "code",
        "colab": {}
      },
      "source": [
        "from sklearn.preprocessing import MinMaxScaler\n",
        "scaler = MinMaxScaler()"
      ],
      "execution_count": 105,
      "outputs": []
    },
    {
      "cell_type": "code",
      "metadata": {
        "id": "OAHDiUqMHljX",
        "colab_type": "code",
        "colab": {
          "base_uri": "https://localhost:8080/",
          "height": 238
        },
        "outputId": "f4570c00-f68f-4abc-a2ee-dba642e44246"
      },
      "source": [
        "cols = Structured_data.columns\n",
        "cols"
      ],
      "execution_count": 106,
      "outputs": [
        {
          "output_type": "execute_result",
          "data": {
            "text/plain": [
              "Index(['Office_PIN', 'Applicant_City_PIN', 'Manager_Grade',\n",
              "       'Manager_Num_Application', 'Manager_Num_Coded', 'Manager_Business',\n",
              "       'Manager_Num_Products', 'Manager_Business2', 'Manager_Num_Products2',\n",
              "       'ID_FIN1000001',\n",
              "       ...\n",
              "       'Manager_Joining_Designation_Other',\n",
              "       'Manager_Current_Designation_Level 1',\n",
              "       'Manager_Current_Designation_Level 2',\n",
              "       'Manager_Current_Designation_Level 3',\n",
              "       'Manager_Current_Designation_Level 4',\n",
              "       'Manager_Current_Designation_Level 5', 'Manager_Status_Confirmation',\n",
              "       'Manager_Status_Probation', 'Manager_Gender_F', 'Manager_Gender_M'],\n",
              "      dtype='object', length=8891)"
            ]
          },
          "metadata": {
            "tags": []
          },
          "execution_count": 106
        }
      ]
    },
    {
      "cell_type": "code",
      "metadata": {
        "id": "x3JoGG59Hlda",
        "colab_type": "code",
        "colab": {
          "base_uri": "https://localhost:8080/",
          "height": 287
        },
        "outputId": "0a16d5e7-031a-4d03-b5b0-8cbd9cf682ae"
      },
      "source": [
        "train_x_scaled = scaler.fit_transform(Structured_data)\n",
        "train_x_scaled = pd.DataFrame(train_x_scaled, columns=cols)\n",
        "train_x_scaled.head()"
      ],
      "execution_count": 107,
      "outputs": [
        {
          "output_type": "execute_result",
          "data": {
            "text/html": [
              "<div>\n",
              "<style scoped>\n",
              "    .dataframe tbody tr th:only-of-type {\n",
              "        vertical-align: middle;\n",
              "    }\n",
              "\n",
              "    .dataframe tbody tr th {\n",
              "        vertical-align: top;\n",
              "    }\n",
              "\n",
              "    .dataframe thead th {\n",
              "        text-align: right;\n",
              "    }\n",
              "</style>\n",
              "<table border=\"1\" class=\"dataframe\">\n",
              "  <thead>\n",
              "    <tr style=\"text-align: right;\">\n",
              "      <th></th>\n",
              "      <th>Office_PIN</th>\n",
              "      <th>Applicant_City_PIN</th>\n",
              "      <th>Manager_Grade</th>\n",
              "      <th>Manager_Num_Application</th>\n",
              "      <th>Manager_Num_Coded</th>\n",
              "      <th>Manager_Business</th>\n",
              "      <th>Manager_Num_Products</th>\n",
              "      <th>Manager_Business2</th>\n",
              "      <th>Manager_Num_Products2</th>\n",
              "      <th>ID_FIN1000001</th>\n",
              "      <th>ID_FIN1000002</th>\n",
              "      <th>ID_FIN1000003</th>\n",
              "      <th>ID_FIN1000004</th>\n",
              "      <th>ID_FIN1000005</th>\n",
              "      <th>ID_FIN1000006</th>\n",
              "      <th>ID_FIN1000007</th>\n",
              "      <th>ID_FIN1000008</th>\n",
              "      <th>ID_FIN1000009</th>\n",
              "      <th>ID_FIN1000010</th>\n",
              "      <th>ID_FIN1000011</th>\n",
              "      <th>ID_FIN1000012</th>\n",
              "      <th>ID_FIN1000013</th>\n",
              "      <th>ID_FIN1000014</th>\n",
              "      <th>ID_FIN1000015</th>\n",
              "      <th>ID_FIN1000016</th>\n",
              "      <th>ID_FIN1000017</th>\n",
              "      <th>ID_FIN1000018</th>\n",
              "      <th>ID_FIN1000019</th>\n",
              "      <th>ID_FIN1000020</th>\n",
              "      <th>ID_FIN1000021</th>\n",
              "      <th>ID_FIN1000022</th>\n",
              "      <th>ID_FIN1000023</th>\n",
              "      <th>ID_FIN1000024</th>\n",
              "      <th>ID_FIN1000026</th>\n",
              "      <th>ID_FIN1000027</th>\n",
              "      <th>ID_FIN1000028</th>\n",
              "      <th>ID_FIN1000029</th>\n",
              "      <th>ID_FIN1000030</th>\n",
              "      <th>ID_FIN1000031</th>\n",
              "      <th>ID_FIN1000032</th>\n",
              "      <th>...</th>\n",
              "      <th>ID_FIN1009525</th>\n",
              "      <th>ID_FIN1009526</th>\n",
              "      <th>Applicant_Gender_F</th>\n",
              "      <th>Applicant_Gender_M</th>\n",
              "      <th>Applicant_Marital_Status_D</th>\n",
              "      <th>Applicant_Marital_Status_M</th>\n",
              "      <th>Applicant_Marital_Status_S</th>\n",
              "      <th>Applicant_Marital_Status_W</th>\n",
              "      <th>Applicant_Occupation_Business</th>\n",
              "      <th>Applicant_Occupation_Others</th>\n",
              "      <th>Applicant_Occupation_Salaried</th>\n",
              "      <th>Applicant_Occupation_Self Employed</th>\n",
              "      <th>Applicant_Occupation_Student</th>\n",
              "      <th>Applicant_Qualification_Associate / Fellow of Institute of Chartered Accountans of India</th>\n",
              "      <th>Applicant_Qualification_Associate/Fellow of Acturial Society of India</th>\n",
              "      <th>Applicant_Qualification_Associate/Fellow of Institute of Company Secretories of India</th>\n",
              "      <th>Applicant_Qualification_Associate/Fellow of Insurance Institute of India</th>\n",
              "      <th>Applicant_Qualification_Class X</th>\n",
              "      <th>Applicant_Qualification_Class XII</th>\n",
              "      <th>Applicant_Qualification_Graduate</th>\n",
              "      <th>Applicant_Qualification_Masters of Business Administration</th>\n",
              "      <th>Applicant_Qualification_Others</th>\n",
              "      <th>Applicant_Qualification_Professional Qualification in Marketing</th>\n",
              "      <th>Manager_Joining_Designation_Level 1</th>\n",
              "      <th>Manager_Joining_Designation_Level 2</th>\n",
              "      <th>Manager_Joining_Designation_Level 3</th>\n",
              "      <th>Manager_Joining_Designation_Level 4</th>\n",
              "      <th>Manager_Joining_Designation_Level 5</th>\n",
              "      <th>Manager_Joining_Designation_Level 6</th>\n",
              "      <th>Manager_Joining_Designation_Level 7</th>\n",
              "      <th>Manager_Joining_Designation_Other</th>\n",
              "      <th>Manager_Current_Designation_Level 1</th>\n",
              "      <th>Manager_Current_Designation_Level 2</th>\n",
              "      <th>Manager_Current_Designation_Level 3</th>\n",
              "      <th>Manager_Current_Designation_Level 4</th>\n",
              "      <th>Manager_Current_Designation_Level 5</th>\n",
              "      <th>Manager_Status_Confirmation</th>\n",
              "      <th>Manager_Status_Probation</th>\n",
              "      <th>Manager_Gender_F</th>\n",
              "      <th>Manager_Gender_M</th>\n",
              "    </tr>\n",
              "  </thead>\n",
              "  <tbody>\n",
              "    <tr>\n",
              "      <th>0</th>\n",
              "      <td>0.156520</td>\n",
              "      <td>0.130993</td>\n",
              "      <td>0.111111</td>\n",
              "      <td>0.090909</td>\n",
              "      <td>0.111111</td>\n",
              "      <td>0.096348</td>\n",
              "      <td>0.049505</td>\n",
              "      <td>0.096348</td>\n",
              "      <td>0.049505</td>\n",
              "      <td>0.0</td>\n",
              "      <td>0.0</td>\n",
              "      <td>0.0</td>\n",
              "      <td>0.0</td>\n",
              "      <td>0.0</td>\n",
              "      <td>0.0</td>\n",
              "      <td>0.0</td>\n",
              "      <td>0.0</td>\n",
              "      <td>0.0</td>\n",
              "      <td>0.0</td>\n",
              "      <td>0.0</td>\n",
              "      <td>0.0</td>\n",
              "      <td>0.0</td>\n",
              "      <td>0.0</td>\n",
              "      <td>0.0</td>\n",
              "      <td>0.0</td>\n",
              "      <td>0.0</td>\n",
              "      <td>0.0</td>\n",
              "      <td>0.0</td>\n",
              "      <td>0.0</td>\n",
              "      <td>0.0</td>\n",
              "      <td>0.0</td>\n",
              "      <td>0.0</td>\n",
              "      <td>0.0</td>\n",
              "      <td>0.0</td>\n",
              "      <td>0.0</td>\n",
              "      <td>0.0</td>\n",
              "      <td>0.0</td>\n",
              "      <td>0.0</td>\n",
              "      <td>0.0</td>\n",
              "      <td>0.0</td>\n",
              "      <td>...</td>\n",
              "      <td>0.0</td>\n",
              "      <td>0.0</td>\n",
              "      <td>0.0</td>\n",
              "      <td>1.0</td>\n",
              "      <td>0.0</td>\n",
              "      <td>1.0</td>\n",
              "      <td>0.0</td>\n",
              "      <td>0.0</td>\n",
              "      <td>1.0</td>\n",
              "      <td>0.0</td>\n",
              "      <td>0.0</td>\n",
              "      <td>0.0</td>\n",
              "      <td>0.0</td>\n",
              "      <td>0.0</td>\n",
              "      <td>0.0</td>\n",
              "      <td>0.0</td>\n",
              "      <td>0.0</td>\n",
              "      <td>0.0</td>\n",
              "      <td>1.0</td>\n",
              "      <td>0.0</td>\n",
              "      <td>0.0</td>\n",
              "      <td>0.0</td>\n",
              "      <td>0.0</td>\n",
              "      <td>1.0</td>\n",
              "      <td>0.0</td>\n",
              "      <td>0.0</td>\n",
              "      <td>0.0</td>\n",
              "      <td>0.0</td>\n",
              "      <td>0.0</td>\n",
              "      <td>0.0</td>\n",
              "      <td>0.0</td>\n",
              "      <td>1.0</td>\n",
              "      <td>0.0</td>\n",
              "      <td>0.0</td>\n",
              "      <td>0.0</td>\n",
              "      <td>0.0</td>\n",
              "      <td>1.0</td>\n",
              "      <td>0.0</td>\n",
              "      <td>0.0</td>\n",
              "      <td>1.0</td>\n",
              "    </tr>\n",
              "    <tr>\n",
              "      <th>1</th>\n",
              "      <td>0.132231</td>\n",
              "      <td>0.110665</td>\n",
              "      <td>0.222222</td>\n",
              "      <td>0.181818</td>\n",
              "      <td>0.333333</td>\n",
              "      <td>0.095149</td>\n",
              "      <td>0.039604</td>\n",
              "      <td>0.095149</td>\n",
              "      <td>0.039604</td>\n",
              "      <td>0.0</td>\n",
              "      <td>0.0</td>\n",
              "      <td>0.0</td>\n",
              "      <td>0.0</td>\n",
              "      <td>0.0</td>\n",
              "      <td>0.0</td>\n",
              "      <td>0.0</td>\n",
              "      <td>0.0</td>\n",
              "      <td>0.0</td>\n",
              "      <td>0.0</td>\n",
              "      <td>0.0</td>\n",
              "      <td>0.0</td>\n",
              "      <td>0.0</td>\n",
              "      <td>0.0</td>\n",
              "      <td>0.0</td>\n",
              "      <td>0.0</td>\n",
              "      <td>0.0</td>\n",
              "      <td>0.0</td>\n",
              "      <td>0.0</td>\n",
              "      <td>0.0</td>\n",
              "      <td>0.0</td>\n",
              "      <td>0.0</td>\n",
              "      <td>0.0</td>\n",
              "      <td>0.0</td>\n",
              "      <td>0.0</td>\n",
              "      <td>0.0</td>\n",
              "      <td>0.0</td>\n",
              "      <td>0.0</td>\n",
              "      <td>0.0</td>\n",
              "      <td>0.0</td>\n",
              "      <td>0.0</td>\n",
              "      <td>...</td>\n",
              "      <td>0.0</td>\n",
              "      <td>0.0</td>\n",
              "      <td>0.0</td>\n",
              "      <td>1.0</td>\n",
              "      <td>0.0</td>\n",
              "      <td>1.0</td>\n",
              "      <td>0.0</td>\n",
              "      <td>0.0</td>\n",
              "      <td>0.0</td>\n",
              "      <td>0.0</td>\n",
              "      <td>1.0</td>\n",
              "      <td>0.0</td>\n",
              "      <td>0.0</td>\n",
              "      <td>0.0</td>\n",
              "      <td>0.0</td>\n",
              "      <td>0.0</td>\n",
              "      <td>0.0</td>\n",
              "      <td>0.0</td>\n",
              "      <td>1.0</td>\n",
              "      <td>0.0</td>\n",
              "      <td>0.0</td>\n",
              "      <td>0.0</td>\n",
              "      <td>0.0</td>\n",
              "      <td>0.0</td>\n",
              "      <td>1.0</td>\n",
              "      <td>0.0</td>\n",
              "      <td>0.0</td>\n",
              "      <td>0.0</td>\n",
              "      <td>0.0</td>\n",
              "      <td>0.0</td>\n",
              "      <td>0.0</td>\n",
              "      <td>0.0</td>\n",
              "      <td>1.0</td>\n",
              "      <td>0.0</td>\n",
              "      <td>0.0</td>\n",
              "      <td>0.0</td>\n",
              "      <td>0.0</td>\n",
              "      <td>1.0</td>\n",
              "      <td>1.0</td>\n",
              "      <td>0.0</td>\n",
              "    </tr>\n",
              "    <tr>\n",
              "      <th>2</th>\n",
              "      <td>0.931048</td>\n",
              "      <td>0.828900</td>\n",
              "      <td>0.111111</td>\n",
              "      <td>0.227273</td>\n",
              "      <td>0.111111</td>\n",
              "      <td>0.088142</td>\n",
              "      <td>0.029703</td>\n",
              "      <td>0.088142</td>\n",
              "      <td>0.029703</td>\n",
              "      <td>0.0</td>\n",
              "      <td>0.0</td>\n",
              "      <td>0.0</td>\n",
              "      <td>0.0</td>\n",
              "      <td>0.0</td>\n",
              "      <td>0.0</td>\n",
              "      <td>0.0</td>\n",
              "      <td>0.0</td>\n",
              "      <td>0.0</td>\n",
              "      <td>0.0</td>\n",
              "      <td>0.0</td>\n",
              "      <td>0.0</td>\n",
              "      <td>0.0</td>\n",
              "      <td>0.0</td>\n",
              "      <td>0.0</td>\n",
              "      <td>0.0</td>\n",
              "      <td>0.0</td>\n",
              "      <td>0.0</td>\n",
              "      <td>0.0</td>\n",
              "      <td>0.0</td>\n",
              "      <td>0.0</td>\n",
              "      <td>0.0</td>\n",
              "      <td>0.0</td>\n",
              "      <td>0.0</td>\n",
              "      <td>0.0</td>\n",
              "      <td>0.0</td>\n",
              "      <td>0.0</td>\n",
              "      <td>0.0</td>\n",
              "      <td>0.0</td>\n",
              "      <td>0.0</td>\n",
              "      <td>0.0</td>\n",
              "      <td>...</td>\n",
              "      <td>0.0</td>\n",
              "      <td>0.0</td>\n",
              "      <td>0.0</td>\n",
              "      <td>1.0</td>\n",
              "      <td>0.0</td>\n",
              "      <td>1.0</td>\n",
              "      <td>0.0</td>\n",
              "      <td>0.0</td>\n",
              "      <td>0.0</td>\n",
              "      <td>0.0</td>\n",
              "      <td>1.0</td>\n",
              "      <td>0.0</td>\n",
              "      <td>0.0</td>\n",
              "      <td>0.0</td>\n",
              "      <td>0.0</td>\n",
              "      <td>0.0</td>\n",
              "      <td>0.0</td>\n",
              "      <td>0.0</td>\n",
              "      <td>1.0</td>\n",
              "      <td>0.0</td>\n",
              "      <td>0.0</td>\n",
              "      <td>0.0</td>\n",
              "      <td>0.0</td>\n",
              "      <td>1.0</td>\n",
              "      <td>0.0</td>\n",
              "      <td>0.0</td>\n",
              "      <td>0.0</td>\n",
              "      <td>0.0</td>\n",
              "      <td>0.0</td>\n",
              "      <td>0.0</td>\n",
              "      <td>0.0</td>\n",
              "      <td>1.0</td>\n",
              "      <td>0.0</td>\n",
              "      <td>0.0</td>\n",
              "      <td>0.0</td>\n",
              "      <td>0.0</td>\n",
              "      <td>1.0</td>\n",
              "      <td>0.0</td>\n",
              "      <td>0.0</td>\n",
              "      <td>1.0</td>\n",
              "    </tr>\n",
              "    <tr>\n",
              "      <th>3</th>\n",
              "      <td>0.461476</td>\n",
              "      <td>0.386154</td>\n",
              "      <td>0.555556</td>\n",
              "      <td>0.318182</td>\n",
              "      <td>0.444444</td>\n",
              "      <td>0.069022</td>\n",
              "      <td>0.000000</td>\n",
              "      <td>0.069022</td>\n",
              "      <td>0.000000</td>\n",
              "      <td>0.0</td>\n",
              "      <td>0.0</td>\n",
              "      <td>0.0</td>\n",
              "      <td>0.0</td>\n",
              "      <td>0.0</td>\n",
              "      <td>0.0</td>\n",
              "      <td>0.0</td>\n",
              "      <td>0.0</td>\n",
              "      <td>0.0</td>\n",
              "      <td>0.0</td>\n",
              "      <td>0.0</td>\n",
              "      <td>0.0</td>\n",
              "      <td>0.0</td>\n",
              "      <td>0.0</td>\n",
              "      <td>0.0</td>\n",
              "      <td>0.0</td>\n",
              "      <td>0.0</td>\n",
              "      <td>0.0</td>\n",
              "      <td>0.0</td>\n",
              "      <td>0.0</td>\n",
              "      <td>0.0</td>\n",
              "      <td>0.0</td>\n",
              "      <td>0.0</td>\n",
              "      <td>0.0</td>\n",
              "      <td>0.0</td>\n",
              "      <td>0.0</td>\n",
              "      <td>0.0</td>\n",
              "      <td>0.0</td>\n",
              "      <td>0.0</td>\n",
              "      <td>0.0</td>\n",
              "      <td>0.0</td>\n",
              "      <td>...</td>\n",
              "      <td>0.0</td>\n",
              "      <td>0.0</td>\n",
              "      <td>0.0</td>\n",
              "      <td>1.0</td>\n",
              "      <td>0.0</td>\n",
              "      <td>1.0</td>\n",
              "      <td>0.0</td>\n",
              "      <td>0.0</td>\n",
              "      <td>0.0</td>\n",
              "      <td>1.0</td>\n",
              "      <td>0.0</td>\n",
              "      <td>0.0</td>\n",
              "      <td>0.0</td>\n",
              "      <td>0.0</td>\n",
              "      <td>0.0</td>\n",
              "      <td>0.0</td>\n",
              "      <td>0.0</td>\n",
              "      <td>0.0</td>\n",
              "      <td>1.0</td>\n",
              "      <td>0.0</td>\n",
              "      <td>0.0</td>\n",
              "      <td>0.0</td>\n",
              "      <td>0.0</td>\n",
              "      <td>0.0</td>\n",
              "      <td>0.0</td>\n",
              "      <td>0.0</td>\n",
              "      <td>1.0</td>\n",
              "      <td>0.0</td>\n",
              "      <td>0.0</td>\n",
              "      <td>0.0</td>\n",
              "      <td>0.0</td>\n",
              "      <td>0.0</td>\n",
              "      <td>0.0</td>\n",
              "      <td>0.0</td>\n",
              "      <td>1.0</td>\n",
              "      <td>0.0</td>\n",
              "      <td>0.0</td>\n",
              "      <td>1.0</td>\n",
              "      <td>0.0</td>\n",
              "      <td>1.0</td>\n",
              "    </tr>\n",
              "    <tr>\n",
              "      <th>4</th>\n",
              "      <td>0.041825</td>\n",
              "      <td>0.035010</td>\n",
              "      <td>0.222222</td>\n",
              "      <td>0.045455</td>\n",
              "      <td>0.000000</td>\n",
              "      <td>0.069022</td>\n",
              "      <td>0.000000</td>\n",
              "      <td>0.069022</td>\n",
              "      <td>0.000000</td>\n",
              "      <td>0.0</td>\n",
              "      <td>0.0</td>\n",
              "      <td>0.0</td>\n",
              "      <td>0.0</td>\n",
              "      <td>0.0</td>\n",
              "      <td>0.0</td>\n",
              "      <td>0.0</td>\n",
              "      <td>0.0</td>\n",
              "      <td>0.0</td>\n",
              "      <td>0.0</td>\n",
              "      <td>0.0</td>\n",
              "      <td>0.0</td>\n",
              "      <td>0.0</td>\n",
              "      <td>0.0</td>\n",
              "      <td>0.0</td>\n",
              "      <td>0.0</td>\n",
              "      <td>0.0</td>\n",
              "      <td>0.0</td>\n",
              "      <td>0.0</td>\n",
              "      <td>0.0</td>\n",
              "      <td>0.0</td>\n",
              "      <td>0.0</td>\n",
              "      <td>0.0</td>\n",
              "      <td>0.0</td>\n",
              "      <td>0.0</td>\n",
              "      <td>0.0</td>\n",
              "      <td>0.0</td>\n",
              "      <td>0.0</td>\n",
              "      <td>0.0</td>\n",
              "      <td>0.0</td>\n",
              "      <td>0.0</td>\n",
              "      <td>...</td>\n",
              "      <td>0.0</td>\n",
              "      <td>0.0</td>\n",
              "      <td>0.0</td>\n",
              "      <td>1.0</td>\n",
              "      <td>0.0</td>\n",
              "      <td>1.0</td>\n",
              "      <td>0.0</td>\n",
              "      <td>0.0</td>\n",
              "      <td>0.0</td>\n",
              "      <td>0.0</td>\n",
              "      <td>1.0</td>\n",
              "      <td>0.0</td>\n",
              "      <td>0.0</td>\n",
              "      <td>0.0</td>\n",
              "      <td>0.0</td>\n",
              "      <td>0.0</td>\n",
              "      <td>0.0</td>\n",
              "      <td>0.0</td>\n",
              "      <td>0.0</td>\n",
              "      <td>1.0</td>\n",
              "      <td>0.0</td>\n",
              "      <td>0.0</td>\n",
              "      <td>0.0</td>\n",
              "      <td>0.0</td>\n",
              "      <td>1.0</td>\n",
              "      <td>0.0</td>\n",
              "      <td>0.0</td>\n",
              "      <td>0.0</td>\n",
              "      <td>0.0</td>\n",
              "      <td>0.0</td>\n",
              "      <td>0.0</td>\n",
              "      <td>0.0</td>\n",
              "      <td>1.0</td>\n",
              "      <td>0.0</td>\n",
              "      <td>0.0</td>\n",
              "      <td>0.0</td>\n",
              "      <td>0.0</td>\n",
              "      <td>1.0</td>\n",
              "      <td>0.0</td>\n",
              "      <td>1.0</td>\n",
              "    </tr>\n",
              "  </tbody>\n",
              "</table>\n",
              "<p>5 rows × 8891 columns</p>\n",
              "</div>"
            ],
            "text/plain": [
              "   Office_PIN  Applicant_City_PIN  ...  Manager_Gender_F  Manager_Gender_M\n",
              "0    0.156520            0.130993  ...               0.0               1.0\n",
              "1    0.132231            0.110665  ...               1.0               0.0\n",
              "2    0.931048            0.828900  ...               0.0               1.0\n",
              "3    0.461476            0.386154  ...               0.0               1.0\n",
              "4    0.041825            0.035010  ...               0.0               1.0\n",
              "\n",
              "[5 rows x 8891 columns]"
            ]
          },
          "metadata": {
            "tags": []
          },
          "execution_count": 107
        }
      ]
    },
    {
      "cell_type": "code",
      "metadata": {
        "id": "--A2qdcxwE2L",
        "colab_type": "code",
        "colab": {}
      },
      "source": [
        "from sklearn.model_selection import train_test_split\n",
        "train_x, test_x, train_y, test_y= train_test_split(x, y, test_size = 0.3, random_state=1)"
      ],
      "execution_count": 108,
      "outputs": []
    },
    {
      "cell_type": "code",
      "metadata": {
        "id": "hTk0gJUCAZAd",
        "colab_type": "code",
        "colab": {}
      },
      "source": [
        "from sklearn.linear_model import LogisticRegression as LogReg\n",
        "\n"
      ],
      "execution_count": 110,
      "outputs": []
    },
    {
      "cell_type": "code",
      "metadata": {
        "id": "MRuAhe2lAZJa",
        "colab_type": "code",
        "colab": {
          "base_uri": "https://localhost:8080/",
          "height": 102
        },
        "outputId": "f07ed3cb-a7c1-4931-c331-fc6e8e5418d9"
      },
      "source": [
        "# Creating instance of Logistic Regresssion\n",
        "logreg = LogReg()\n",
        "\n",
        "# Fitting the model\n",
        "logreg.fit(train_x, train_y)"
      ],
      "execution_count": 111,
      "outputs": [
        {
          "output_type": "execute_result",
          "data": {
            "text/plain": [
              "LogisticRegression(C=1.0, class_weight=None, dual=False, fit_intercept=True,\n",
              "                   intercept_scaling=1, l1_ratio=None, max_iter=100,\n",
              "                   multi_class='auto', n_jobs=None, penalty='l2',\n",
              "                   random_state=None, solver='lbfgs', tol=0.0001, verbose=0,\n",
              "                   warm_start=False)"
            ]
          },
          "metadata": {
            "tags": []
          },
          "execution_count": 111
        }
      ]
    },
    {
      "cell_type": "code",
      "metadata": {
        "id": "aRi91KeIwE4O",
        "colab_type": "code",
        "colab": {
          "base_uri": "https://localhost:8080/",
          "height": 34
        },
        "outputId": "dac7d668-3027-4ac4-a778-6edc4d434bb7"
      },
      "source": [
        "# Predicting over the Train\n",
        "train_predict = logreg.predict(train_x)\n",
        "train_predict"
      ],
      "execution_count": 112,
      "outputs": [
        {
          "output_type": "execute_result",
          "data": {
            "text/plain": [
              "array([0, 0, 0, ..., 0, 0, 0])"
            ]
          },
          "metadata": {
            "tags": []
          },
          "execution_count": 112
        }
      ]
    },
    {
      "cell_type": "code",
      "metadata": {
        "id": "8jfp9WVIwE8T",
        "colab_type": "code",
        "colab": {
          "base_uri": "https://localhost:8080/",
          "height": 34
        },
        "outputId": "b195271b-d6f1-471a-f481-26bfc5e6934d"
      },
      "source": [
        "from sklearn.metrics import f1_score\n",
        "# Calculating f1-score\n",
        "k = f1_score(train_predict, train_y)\n",
        "print('Training f1_score', k )"
      ],
      "execution_count": 114,
      "outputs": [
        {
          "output_type": "stream",
          "text": [
            "Training f1_score 0.004699248120300752\n"
          ],
          "name": "stdout"
        }
      ]
    },
    {
      "cell_type": "code",
      "metadata": {
        "id": "EZnM4feHFZrE",
        "colab_type": "code",
        "colab": {
          "base_uri": "https://localhost:8080/",
          "height": 34
        },
        "outputId": "19f7e165-bcf5-4b66-d985-f3d0a9ce1bb2"
      },
      "source": [
        "# Predicting over the Test Set and f1-score\n",
        "test_predict = logreg.predict(test_x)\n",
        "k = f1_score(test_predict, test_y)\n",
        "print('Test f1_score    ', k )"
      ],
      "execution_count": 115,
      "outputs": [
        {
          "output_type": "stream",
          "text": [
            "Test f1_score     0.0\n"
          ],
          "name": "stdout"
        }
      ]
    },
    {
      "cell_type": "code",
      "metadata": {
        "id": "yPndIUgLGdtf",
        "colab_type": "code",
        "colab": {
          "base_uri": "https://localhost:8080/",
          "height": 136
        },
        "outputId": "34c0f028-2af7-4a33-9a19-2fa17a8beeaf"
      },
      "source": [
        "# Predicting over the Train\n",
        "train_predict = logreg.predict_proba(train_x)\n",
        "train_predict"
      ],
      "execution_count": 116,
      "outputs": [
        {
          "output_type": "execute_result",
          "data": {
            "text/plain": [
              "array([[0.67596464, 0.32403536],\n",
              "       [0.60857848, 0.39142152],\n",
              "       [0.53859666, 0.46140334],\n",
              "       ...,\n",
              "       [0.59121308, 0.40878692],\n",
              "       [0.70238204, 0.29761796],\n",
              "       [0.55139434, 0.44860566]])"
            ]
          },
          "metadata": {
            "tags": []
          },
          "execution_count": 116
        }
      ]
    },
    {
      "cell_type": "code",
      "metadata": {
        "id": "BsGQtcN4G9k8",
        "colab_type": "code",
        "colab": {
          "base_uri": "https://localhost:8080/",
          "height": 51
        },
        "outputId": "211e4235-d49d-4bd4-a65d-4a5ebaa637f2"
      },
      "source": [
        "train_preds = train_predict[:,1]\n",
        "train_preds"
      ],
      "execution_count": 117,
      "outputs": [
        {
          "output_type": "execute_result",
          "data": {
            "text/plain": [
              "array([0.32403536, 0.39142152, 0.46140334, ..., 0.40878692, 0.29761796,\n",
              "       0.44860566])"
            ]
          },
          "metadata": {
            "tags": []
          },
          "execution_count": 117
        }
      ]
    },
    {
      "cell_type": "code",
      "metadata": {
        "id": "ATAEsJADHEb6",
        "colab_type": "code",
        "colab": {}
      },
      "source": [
        "for i in range(0, len(train_preds)):\n",
        "  if(train_preds[i]>0.55):\n",
        "    train_preds[i] = 1\n",
        "  else:\n",
        "    train_preds[i] = 0"
      ],
      "execution_count": 118,
      "outputs": []
    },
    {
      "cell_type": "code",
      "metadata": {
        "id": "Fn1Nny6ZHLG2",
        "colab_type": "code",
        "colab": {
          "base_uri": "https://localhost:8080/",
          "height": 34
        },
        "outputId": "ef690de4-0de4-4baf-c8be-a8b7ba3a49d4"
      },
      "source": [
        "# Calculating f1-score\n",
        "k = f1_score(train_preds, train_y)\n",
        "print('Training f1_score', k )"
      ],
      "execution_count": 119,
      "outputs": [
        {
          "output_type": "stream",
          "text": [
            "Training f1_score 0.000942951438000943\n"
          ],
          "name": "stdout"
        }
      ]
    },
    {
      "cell_type": "code",
      "metadata": {
        "id": "xVdvhCWoHXhl",
        "colab_type": "code",
        "colab": {
          "base_uri": "https://localhost:8080/",
          "height": 51
        },
        "outputId": "2cafea0c-d4bb-4a0b-8664-caccccb3283d"
      },
      "source": [
        "from sklearn.metrics import confusion_matrix\n",
        "cf= confusion_matrix(test_y, test_predict)\n",
        "print(cf)"
      ],
      "execution_count": 120,
      "outputs": [
        {
          "output_type": "stream",
          "text": [
            "[[1740    3]\n",
            " [ 911    0]]\n"
          ],
          "name": "stdout"
        }
      ]
    },
    {
      "cell_type": "code",
      "metadata": {
        "id": "7zmJh7nGHes0",
        "colab_type": "code",
        "colab": {
          "base_uri": "https://localhost:8080/",
          "height": 170
        },
        "outputId": "704b7c5a-c3e5-4c48-c362-1839750abbd8"
      },
      "source": [
        "from sklearn.metrics import classification_report as rep\n",
        "print(rep( test_y , test_predict ))"
      ],
      "execution_count": 121,
      "outputs": [
        {
          "output_type": "stream",
          "text": [
            "              precision    recall  f1-score   support\n",
            "\n",
            "           0       0.66      1.00      0.79      1743\n",
            "           1       0.00      0.00      0.00       911\n",
            "\n",
            "    accuracy                           0.66      2654\n",
            "   macro avg       0.33      0.50      0.40      2654\n",
            "weighted avg       0.43      0.66      0.52      2654\n",
            "\n"
          ],
          "name": "stdout"
        }
      ]
    },
    {
      "cell_type": "code",
      "metadata": {
        "id": "WU0g36_1Hl74",
        "colab_type": "code",
        "colab": {
          "base_uri": "https://localhost:8080/",
          "height": 51
        },
        "outputId": "3f0b470f-4ded-4beb-94c3-42ba410b2467"
      },
      "source": [
        "logreg.coef_"
      ],
      "execution_count": 122,
      "outputs": [
        {
          "output_type": "execute_result",
          "data": {
            "text/plain": [
              "array([[-1.61134666e-06,  5.82749694e-07, -1.17272426e-09, ...,\n",
              "        -1.49986685e-10,  3.06735664e-11, -5.03640701e-10]])"
            ]
          },
          "metadata": {
            "tags": []
          },
          "execution_count": 122
        }
      ]
    },
    {
      "cell_type": "code",
      "metadata": {
        "id": "q_6tP_orHtV-",
        "colab_type": "code",
        "colab": {
          "base_uri": "https://localhost:8080/",
          "height": 421
        },
        "outputId": "268d87c0-65dd-416c-c53b-fdd741d8daf4"
      },
      "source": [
        "plt.figure(figsize=(6, 4), dpi=100, facecolor='w', edgecolor='b')  #dpi=120\n",
        "x = range(len(train_x.columns))\n",
        "c = logreg.coef_.reshape(-1)\n",
        "plt.bar( x, c )\n",
        "plt.xlabel( \"Variables\")\n",
        "plt.ylabel('Coefficients')\n",
        "plt.title('Coefficient plot')"
      ],
      "execution_count": 132,
      "outputs": [
        {
          "output_type": "execute_result",
          "data": {
            "text/plain": [
              "Text(0.5, 1.0, 'Coefficient plot')"
            ]
          },
          "metadata": {
            "tags": []
          },
          "execution_count": 132
        },
        {
          "output_type": "display_data",
          "data": {
            "image/png": "[encoded data removed]",
            "text/plain": [
              "<Figure size 600x400 with 1 Axes>"
            ]
          },
          "metadata": {
            "tags": []
          }
        }
      ]
    },
    {
      "cell_type": "code",
      "metadata": {
        "id": "zPt0rikZHxVJ",
        "colab_type": "code",
        "colab": {
          "base_uri": "https://localhost:8080/",
          "height": 204
        },
        "outputId": "ac7ff286-0daa-45eb-cad6-d2637a70eb93"
      },
      "source": [
        "Coefficients = pd.DataFrame({\n",
        "    'Variable'    : train_x.columns,\n",
        "    'coefficient' : abs(c)\n",
        "})\n",
        "Coefficients.head()"
      ],
      "execution_count": 133,
      "outputs": [
        {
          "output_type": "execute_result",
          "data": {
            "text/html": [
              "<div>\n",
              "<style scoped>\n",
              "    .dataframe tbody tr th:only-of-type {\n",
              "        vertical-align: middle;\n",
              "    }\n",
              "\n",
              "    .dataframe tbody tr th {\n",
              "        vertical-align: top;\n",
              "    }\n",
              "\n",
              "    .dataframe thead th {\n",
              "        text-align: right;\n",
              "    }\n",
              "</style>\n",
              "<table border=\"1\" class=\"dataframe\">\n",
              "  <thead>\n",
              "    <tr style=\"text-align: right;\">\n",
              "      <th></th>\n",
              "      <th>Variable</th>\n",
              "      <th>coefficient</th>\n",
              "    </tr>\n",
              "  </thead>\n",
              "  <tbody>\n",
              "    <tr>\n",
              "      <th>0</th>\n",
              "      <td>Office_PIN</td>\n",
              "      <td>1.611347e-06</td>\n",
              "    </tr>\n",
              "    <tr>\n",
              "      <th>1</th>\n",
              "      <td>Applicant_City_PIN</td>\n",
              "      <td>5.827497e-07</td>\n",
              "    </tr>\n",
              "    <tr>\n",
              "      <th>2</th>\n",
              "      <td>Manager_Grade</td>\n",
              "      <td>1.172724e-09</td>\n",
              "    </tr>\n",
              "    <tr>\n",
              "      <th>3</th>\n",
              "      <td>Manager_Num_Application</td>\n",
              "      <td>1.352711e-09</td>\n",
              "    </tr>\n",
              "    <tr>\n",
              "      <th>4</th>\n",
              "      <td>Manager_Num_Coded</td>\n",
              "      <td>1.683894e-10</td>\n",
              "    </tr>\n",
              "  </tbody>\n",
              "</table>\n",
              "</div>"
            ],
            "text/plain": [
              "                  Variable   coefficient\n",
              "0               Office_PIN  1.611347e-06\n",
              "1       Applicant_City_PIN  5.827497e-07\n",
              "2            Manager_Grade  1.172724e-09\n",
              "3  Manager_Num_Application  1.352711e-09\n",
              "4        Manager_Num_Coded  1.683894e-10"
            ]
          },
          "metadata": {
            "tags": []
          },
          "execution_count": 133
        }
      ]
    },
    {
      "cell_type": "code",
      "metadata": {
        "id": "IeDODWTEH5ri",
        "colab_type": "code",
        "colab": {}
      },
      "source": [
        "sig_var = Coefficients[Coefficients.coefficient > 0.3]"
      ],
      "execution_count": 134,
      "outputs": []
    },
    {
      "cell_type": "code",
      "metadata": {
        "id": "4DO3Ne8UIDFD",
        "colab_type": "code",
        "colab": {
          "base_uri": "https://localhost:8080/",
          "height": 187
        },
        "outputId": "a4ed723a-0135-4584-ecf3-119d8084a320"
      },
      "source": [
        "subset = data[sig_var['Variable'].values]\n",
        "subset.head()"
      ],
      "execution_count": 135,
      "outputs": [
        {
          "output_type": "execute_result",
          "data": {
            "text/html": [
              "<div>\n",
              "<style scoped>\n",
              "    .dataframe tbody tr th:only-of-type {\n",
              "        vertical-align: middle;\n",
              "    }\n",
              "\n",
              "    .dataframe tbody tr th {\n",
              "        vertical-align: top;\n",
              "    }\n",
              "\n",
              "    .dataframe thead th {\n",
              "        text-align: right;\n",
              "    }\n",
              "</style>\n",
              "<table border=\"1\" class=\"dataframe\">\n",
              "  <thead>\n",
              "    <tr style=\"text-align: right;\">\n",
              "      <th></th>\n",
              "    </tr>\n",
              "  </thead>\n",
              "  <tbody>\n",
              "    <tr>\n",
              "      <th>4111</th>\n",
              "    </tr>\n",
              "    <tr>\n",
              "      <th>7174</th>\n",
              "    </tr>\n",
              "    <tr>\n",
              "      <th>419</th>\n",
              "    </tr>\n",
              "    <tr>\n",
              "      <th>4294</th>\n",
              "    </tr>\n",
              "    <tr>\n",
              "      <th>7474</th>\n",
              "    </tr>\n",
              "  </tbody>\n",
              "</table>\n",
              "</div>"
            ],
            "text/plain": [
              "Empty DataFrame\n",
              "Columns: []\n",
              "Index: [4111, 7174, 419, 4294, 7474]"
            ]
          },
          "metadata": {
            "tags": []
          },
          "execution_count": 135
        }
      ]
    },
    {
      "cell_type": "code",
      "metadata": {
        "id": "oxU391e2IDRQ",
        "colab_type": "code",
        "colab": {}
      },
      "source": [
        ""
      ],
      "execution_count": null,
      "outputs": []
    }
  ]
}