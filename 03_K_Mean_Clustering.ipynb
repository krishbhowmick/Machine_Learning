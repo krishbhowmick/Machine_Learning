{
  "nbformat": 4,
  "nbformat_minor": 0,
  "metadata": {
    "colab": {
      "name": "03_K-Mean_Clustering",
      "provenance": [],
      "authorship_tag": "ABX9TyOTtIDGMEdO7mCkIR9Xa8Yd",
      "include_colab_link": true
    },
    "kernelspec": {
      "name": "python3",
      "display_name": "Python 3"
    }
  },
  "cells": [
    {
      "cell_type": "markdown",
      "metadata": {
        "id": "view-in-github",
        "colab_type": "text"
      },
      "source": [
        "<a href=\"https://colab.research.google.com/github/krishbhowmick/Machine_Learning/blob/master/03_K_Mean_Clustering.ipynb\" target=\"_parent\"><img src=\"https://colab.research.google.com/assets/colab-badge.svg\" alt=\"Open In Colab\"/></a>"
      ]
    },
    {
      "cell_type": "code",
      "metadata": {
        "id": "CH7mc--YZQ6o",
        "colab_type": "code",
        "colab": {
          "base_uri": "https://localhost:8080/",
          "height": 122
        },
        "outputId": "436550bc-ee07-4afc-f8b2-1a9ad3825478"
      },
      "source": [
        "from google.colab import drive\n",
        "drive.mount('/content/drive/')"
      ],
      "execution_count": null,
      "outputs": [
        {
          "output_type": "stream",
          "text": [
            "Go to this URL in a browser: https://accounts.google.com/o/oauth2/auth?client_id=947318989803-6bn6qk8qdgf4n4g3pfee6491hc0brc4i.apps.googleusercontent.com&redirect_uri=urn%3aietf%3awg%3aoauth%3a2.0%3aoob&scope=email%20https%3a%2f%2fwww.googleapis.com%2fauth%2fdocs.test%20https%3a%2f%2fwww.googleapis.com%2fauth%2fdrive%20https%3a%2f%2fwww.googleapis.com%2fauth%2fdrive.photos.readonly%20https%3a%2f%2fwww.googleapis.com%2fauth%2fpeopleapi.readonly&response_type=code\n",
            "\n",
            "Enter your authorization code:\n",
            "··········\n",
            "Mounted at /content/drive/\n"
          ],
          "name": "stdout"
        }
      ]
    },
    {
      "cell_type": "code",
      "metadata": {
        "id": "71UwBu7RZVxK",
        "colab_type": "code",
        "colab": {
          "base_uri": "https://localhost:8080/",
          "height": 71
        },
        "outputId": "4b866564-cec2-467f-9ed9-811ee829a2f5"
      },
      "source": [
        "import pandas as pd\n",
        "import numpy as np\n",
        "import matplotlib.pyplot as plt\n",
        "import seaborn as sb"
      ],
      "execution_count": null,
      "outputs": [
        {
          "output_type": "stream",
          "text": [
            "/usr/local/lib/python3.6/dist-packages/statsmodels/tools/_testing.py:19: FutureWarning: pandas.util.testing is deprecated. Use the functions in the public API at pandas.testing instead.\n",
            "  import pandas.util.testing as tm\n"
          ],
          "name": "stderr"
        }
      ]
    },
    {
      "cell_type": "code",
      "metadata": {
        "id": "5kXlDcqQZYzA",
        "colab_type": "code",
        "colab": {}
      },
      "source": [
        "cricket_data=pd.read_excel(r\"/content/drive/My Drive/IITB_ML/IITB_ML_Data/Cricket_Data.xlsx\")"
      ],
      "execution_count": null,
      "outputs": []
    },
    {
      "cell_type": "code",
      "metadata": {
        "id": "eHZl9akbZ38Q",
        "colab_type": "code",
        "colab": {
          "base_uri": "https://localhost:8080/",
          "height": 204
        },
        "outputId": "f425c7d9-9673-4f50-becd-b1d34f3a4451"
      },
      "source": [
        "cricket_data.head()"
      ],
      "execution_count": null,
      "outputs": [
        {
          "output_type": "execute_result",
          "data": {
            "text/html": [
              "<div>\n",
              "<style scoped>\n",
              "    .dataframe tbody tr th:only-of-type {\n",
              "        vertical-align: middle;\n",
              "    }\n",
              "\n",
              "    .dataframe tbody tr th {\n",
              "        vertical-align: top;\n",
              "    }\n",
              "\n",
              "    .dataframe thead th {\n",
              "        text-align: right;\n",
              "    }\n",
              "</style>\n",
              "<table border=\"1\" class=\"dataframe\">\n",
              "  <thead>\n",
              "    <tr style=\"text-align: right;\">\n",
              "      <th></th>\n",
              "      <th>Mat</th>\n",
              "      <th>Inns</th>\n",
              "      <th>Runs</th>\n",
              "      <th>Ave</th>\n",
              "      <th>SR</th>\n",
              "      <th>CATEGORY</th>\n",
              "    </tr>\n",
              "  </thead>\n",
              "  <tbody>\n",
              "    <tr>\n",
              "      <th>0</th>\n",
              "      <td>58</td>\n",
              "      <td>104</td>\n",
              "      <td>4154</td>\n",
              "      <td>41.95</td>\n",
              "      <td>51.49</td>\n",
              "      <td>TEST</td>\n",
              "    </tr>\n",
              "    <tr>\n",
              "      <th>1</th>\n",
              "      <td>147</td>\n",
              "      <td>143</td>\n",
              "      <td>5238</td>\n",
              "      <td>39.68</td>\n",
              "      <td>85.25</td>\n",
              "      <td>ODI</td>\n",
              "    </tr>\n",
              "    <tr>\n",
              "      <th>2</th>\n",
              "      <td>71</td>\n",
              "      <td>122</td>\n",
              "      <td>6147</td>\n",
              "      <td>53.92</td>\n",
              "      <td>58.22</td>\n",
              "      <td>TEST</td>\n",
              "    </tr>\n",
              "    <tr>\n",
              "      <th>3</th>\n",
              "      <td>211</td>\n",
              "      <td>203</td>\n",
              "      <td>9779</td>\n",
              "      <td>58.20</td>\n",
              "      <td>92.12</td>\n",
              "      <td>ODI</td>\n",
              "    </tr>\n",
              "    <tr>\n",
              "      <th>4</th>\n",
              "      <td>62</td>\n",
              "      <td>58</td>\n",
              "      <td>2102</td>\n",
              "      <td>48.88</td>\n",
              "      <td>136.22</td>\n",
              "      <td>T20</td>\n",
              "    </tr>\n",
              "  </tbody>\n",
              "</table>\n",
              "</div>"
            ],
            "text/plain": [
              "   Mat  Inns  Runs    Ave      SR CATEGORY\n",
              "0   58   104  4154  41.95   51.49     TEST\n",
              "1  147   143  5238  39.68   85.25      ODI\n",
              "2   71   122  6147  53.92   58.22     TEST\n",
              "3  211   203  9779  58.20   92.12      ODI\n",
              "4   62    58  2102  48.88  136.22      T20"
            ]
          },
          "metadata": {
            "tags": []
          },
          "execution_count": 4
        }
      ]
    },
    {
      "cell_type": "markdown",
      "metadata": {
        "id": "GVZ1Ue5Mrb9-",
        "colab_type": "text"
      },
      "source": [
        "# **Pre-processing **"
      ]
    },
    {
      "cell_type": "code",
      "metadata": {
        "id": "rrao4_VYZ86S",
        "colab_type": "code",
        "colab": {}
      },
      "source": [
        "c_data=cricket_data.drop([\"CATEGORY\"],axis=1)"
      ],
      "execution_count": null,
      "outputs": []
    },
    {
      "cell_type": "code",
      "metadata": {
        "id": "JH_oY9_DeSTb",
        "colab_type": "code",
        "colab": {
          "base_uri": "https://localhost:8080/",
          "height": 419
        },
        "outputId": "4c9f9bb9-8486-425c-f148-ef516deeb11a"
      },
      "source": [
        "c_data"
      ],
      "execution_count": null,
      "outputs": [
        {
          "output_type": "execute_result",
          "data": {
            "text/html": [
              "<div>\n",
              "<style scoped>\n",
              "    .dataframe tbody tr th:only-of-type {\n",
              "        vertical-align: middle;\n",
              "    }\n",
              "\n",
              "    .dataframe tbody tr th {\n",
              "        vertical-align: top;\n",
              "    }\n",
              "\n",
              "    .dataframe thead th {\n",
              "        text-align: right;\n",
              "    }\n",
              "</style>\n",
              "<table border=\"1\" class=\"dataframe\">\n",
              "  <thead>\n",
              "    <tr style=\"text-align: right;\">\n",
              "      <th></th>\n",
              "      <th>Mat</th>\n",
              "      <th>Inns</th>\n",
              "      <th>Runs</th>\n",
              "      <th>Ave</th>\n",
              "      <th>SR</th>\n",
              "    </tr>\n",
              "  </thead>\n",
              "  <tbody>\n",
              "    <tr>\n",
              "      <th>0</th>\n",
              "      <td>58</td>\n",
              "      <td>104</td>\n",
              "      <td>4154</td>\n",
              "      <td>41.95</td>\n",
              "      <td>51.49</td>\n",
              "    </tr>\n",
              "    <tr>\n",
              "      <th>1</th>\n",
              "      <td>147</td>\n",
              "      <td>143</td>\n",
              "      <td>5238</td>\n",
              "      <td>39.68</td>\n",
              "      <td>85.25</td>\n",
              "    </tr>\n",
              "    <tr>\n",
              "      <th>2</th>\n",
              "      <td>71</td>\n",
              "      <td>122</td>\n",
              "      <td>6147</td>\n",
              "      <td>53.92</td>\n",
              "      <td>58.22</td>\n",
              "    </tr>\n",
              "    <tr>\n",
              "      <th>3</th>\n",
              "      <td>211</td>\n",
              "      <td>203</td>\n",
              "      <td>9779</td>\n",
              "      <td>58.20</td>\n",
              "      <td>92.12</td>\n",
              "    </tr>\n",
              "    <tr>\n",
              "      <th>4</th>\n",
              "      <td>62</td>\n",
              "      <td>58</td>\n",
              "      <td>2102</td>\n",
              "      <td>48.88</td>\n",
              "      <td>136.22</td>\n",
              "    </tr>\n",
              "    <tr>\n",
              "      <th>...</th>\n",
              "      <td>...</td>\n",
              "      <td>...</td>\n",
              "      <td>...</td>\n",
              "      <td>...</td>\n",
              "      <td>...</td>\n",
              "    </tr>\n",
              "    <tr>\n",
              "      <th>70</th>\n",
              "      <td>77</td>\n",
              "      <td>71</td>\n",
              "      <td>1825</td>\n",
              "      <td>37.24</td>\n",
              "      <td>124.31</td>\n",
              "    </tr>\n",
              "    <tr>\n",
              "      <th>71</th>\n",
              "      <td>62</td>\n",
              "      <td>105</td>\n",
              "      <td>4809</td>\n",
              "      <td>49.57</td>\n",
              "      <td>46.90</td>\n",
              "    </tr>\n",
              "    <tr>\n",
              "      <th>72</th>\n",
              "      <td>25</td>\n",
              "      <td>43</td>\n",
              "      <td>1479</td>\n",
              "      <td>39.97</td>\n",
              "      <td>55.14</td>\n",
              "    </tr>\n",
              "    <tr>\n",
              "      <th>73</th>\n",
              "      <td>183</td>\n",
              "      <td>177</td>\n",
              "      <td>6748</td>\n",
              "      <td>44.98</td>\n",
              "      <td>87.18</td>\n",
              "    </tr>\n",
              "    <tr>\n",
              "      <th>74</th>\n",
              "      <td>84</td>\n",
              "      <td>77</td>\n",
              "      <td>2086</td>\n",
              "      <td>32.59</td>\n",
              "      <td>137.05</td>\n",
              "    </tr>\n",
              "  </tbody>\n",
              "</table>\n",
              "<p>75 rows × 5 columns</p>\n",
              "</div>"
            ],
            "text/plain": [
              "    Mat  Inns  Runs    Ave      SR\n",
              "0    58   104  4154  41.95   51.49\n",
              "1   147   143  5238  39.68   85.25\n",
              "2    71   122  6147  53.92   58.22\n",
              "3   211   203  9779  58.20   92.12\n",
              "4    62    58  2102  48.88  136.22\n",
              "..  ...   ...   ...    ...     ...\n",
              "70   77    71  1825  37.24  124.31\n",
              "71   62   105  4809  49.57   46.90\n",
              "72   25    43  1479  39.97   55.14\n",
              "73  183   177  6748  44.98   87.18\n",
              "74   84    77  2086  32.59  137.05\n",
              "\n",
              "[75 rows x 5 columns]"
            ]
          },
          "metadata": {
            "tags": []
          },
          "execution_count": 10
        }
      ]
    },
    {
      "cell_type": "code",
      "metadata": {
        "id": "n4Lkb_pGeXwI",
        "colab_type": "code",
        "colab": {
          "base_uri": "https://localhost:8080/",
          "height": 279
        },
        "outputId": "024c5a0b-e5e7-42ca-c16e-c69c99ed5ee0"
      },
      "source": [
        "plt.plot(c_data[\"Mat\"],c_data[\"Runs\"],'r*')\n",
        "plt.xlabel(\"Mat\")\n",
        "plt.ylabel([\"Runs\"])\n",
        "plt.show()"
      ],
      "execution_count": null,
      "outputs": [
        {
          "output_type": "display_data",
          "data": {
            "image/png": "[encoded data removed]",
            "text/plain": [
              "<Figure size 432x288 with 1 Axes>"
            ]
          },
          "metadata": {
            "tags": [],
            "needs_background": "light"
          }
        }
      ]
    },
    {
      "cell_type": "code",
      "metadata": {
        "id": "n3QhFQtNe_vc",
        "colab_type": "code",
        "colab": {}
      },
      "source": [
        "# Convert the data into array\n",
        "data_array=c_data.values"
      ],
      "execution_count": null,
      "outputs": []
    },
    {
      "cell_type": "markdown",
      "metadata": {
        "id": "gWFNgUHpr0gy",
        "colab_type": "text"
      },
      "source": [
        "# **Algorithm Start**"
      ]
    },
    {
      "cell_type": "code",
      "metadata": {
        "id": "-VeJRaOGfcRF",
        "colab_type": "code",
        "colab": {}
      },
      "source": [
        "from sklearn.cluster import KMeans"
      ],
      "execution_count": null,
      "outputs": []
    },
    {
      "cell_type": "code",
      "metadata": {
        "id": "K8okJBsmfrLx",
        "colab_type": "code",
        "colab": {}
      },
      "source": [
        "Kmean_model=KMeans(n_clusters=3,max_iter=200).fit(data_array)"
      ],
      "execution_count": null,
      "outputs": []
    },
    {
      "cell_type": "code",
      "metadata": {
        "id": "y0G1ZEbggGxw",
        "colab_type": "code",
        "colab": {
          "base_uri": "https://localhost:8080/",
          "height": 85
        },
        "outputId": "5cd3ade8-6026-4f44-eb11-7e7ed60fc1bb"
      },
      "source": [
        "# labels_ This function classify the cluster\n",
        "Kmean_model.labels_"
      ],
      "execution_count": null,
      "outputs": [
        {
          "output_type": "execute_result",
          "data": {
            "text/plain": [
              "array([0, 0, 0, 0, 1, 2, 2, 1, 1, 0, 0, 1, 1, 1, 1, 1, 0, 1, 1, 1, 1, 1,\n",
              "       1, 0, 1, 1, 0, 0, 0, 1, 1, 1, 1, 2, 1, 1, 0, 0, 1, 1, 1, 1, 1, 1,\n",
              "       1, 0, 0, 1, 0, 0, 1, 0, 0, 1, 1, 0, 1, 1, 1, 1, 0, 0, 1, 1, 1, 0,\n",
              "       0, 1, 1, 0, 1, 0, 1, 0, 1], dtype=int32)"
            ]
          },
          "metadata": {
            "tags": []
          },
          "execution_count": 15
        }
      ]
    },
    {
      "cell_type": "code",
      "metadata": {
        "id": "OplopBO4gOJq",
        "colab_type": "code",
        "colab": {}
      },
      "source": [
        "c_data[\"Cluster\"]=Kmean_model.labels_"
      ],
      "execution_count": null,
      "outputs": []
    },
    {
      "cell_type": "code",
      "metadata": {
        "id": "Mt2r-nYig2Dg",
        "colab_type": "code",
        "colab": {}
      },
      "source": [
        "# map- differentiate the \n",
        "#c_data[\"Cluster\"]=c_data[\"Cluster\"].map({1:\"Centrod_1\",0:\"Centrod_2\"})"
      ],
      "execution_count": null,
      "outputs": []
    },
    {
      "cell_type": "code",
      "metadata": {
        "id": "cJn5MWFKg5Pu",
        "colab_type": "code",
        "colab": {
          "base_uri": "https://localhost:8080/",
          "height": 419
        },
        "outputId": "938b2b88-728d-4571-9e32-9203dc2d91b9"
      },
      "source": [
        "c_data"
      ],
      "execution_count": null,
      "outputs": [
        {
          "output_type": "execute_result",
          "data": {
            "text/html": [
              "<div>\n",
              "<style scoped>\n",
              "    .dataframe tbody tr th:only-of-type {\n",
              "        vertical-align: middle;\n",
              "    }\n",
              "\n",
              "    .dataframe tbody tr th {\n",
              "        vertical-align: top;\n",
              "    }\n",
              "\n",
              "    .dataframe thead th {\n",
              "        text-align: right;\n",
              "    }\n",
              "</style>\n",
              "<table border=\"1\" class=\"dataframe\">\n",
              "  <thead>\n",
              "    <tr style=\"text-align: right;\">\n",
              "      <th></th>\n",
              "      <th>Mat</th>\n",
              "      <th>Inns</th>\n",
              "      <th>Runs</th>\n",
              "      <th>Ave</th>\n",
              "      <th>SR</th>\n",
              "      <th>Cluster</th>\n",
              "    </tr>\n",
              "  </thead>\n",
              "  <tbody>\n",
              "    <tr>\n",
              "      <th>0</th>\n",
              "      <td>58</td>\n",
              "      <td>104</td>\n",
              "      <td>4154</td>\n",
              "      <td>41.95</td>\n",
              "      <td>51.49</td>\n",
              "      <td>1</td>\n",
              "    </tr>\n",
              "    <tr>\n",
              "      <th>1</th>\n",
              "      <td>147</td>\n",
              "      <td>143</td>\n",
              "      <td>5238</td>\n",
              "      <td>39.68</td>\n",
              "      <td>85.25</td>\n",
              "      <td>1</td>\n",
              "    </tr>\n",
              "    <tr>\n",
              "      <th>2</th>\n",
              "      <td>71</td>\n",
              "      <td>122</td>\n",
              "      <td>6147</td>\n",
              "      <td>53.92</td>\n",
              "      <td>58.22</td>\n",
              "      <td>1</td>\n",
              "    </tr>\n",
              "    <tr>\n",
              "      <th>3</th>\n",
              "      <td>211</td>\n",
              "      <td>203</td>\n",
              "      <td>9779</td>\n",
              "      <td>58.20</td>\n",
              "      <td>92.12</td>\n",
              "      <td>1</td>\n",
              "    </tr>\n",
              "    <tr>\n",
              "      <th>4</th>\n",
              "      <td>62</td>\n",
              "      <td>58</td>\n",
              "      <td>2102</td>\n",
              "      <td>48.88</td>\n",
              "      <td>136.22</td>\n",
              "      <td>0</td>\n",
              "    </tr>\n",
              "    <tr>\n",
              "      <th>...</th>\n",
              "      <td>...</td>\n",
              "      <td>...</td>\n",
              "      <td>...</td>\n",
              "      <td>...</td>\n",
              "      <td>...</td>\n",
              "      <td>...</td>\n",
              "    </tr>\n",
              "    <tr>\n",
              "      <th>70</th>\n",
              "      <td>77</td>\n",
              "      <td>71</td>\n",
              "      <td>1825</td>\n",
              "      <td>37.24</td>\n",
              "      <td>124.31</td>\n",
              "      <td>0</td>\n",
              "    </tr>\n",
              "    <tr>\n",
              "      <th>71</th>\n",
              "      <td>62</td>\n",
              "      <td>105</td>\n",
              "      <td>4809</td>\n",
              "      <td>49.57</td>\n",
              "      <td>46.90</td>\n",
              "      <td>1</td>\n",
              "    </tr>\n",
              "    <tr>\n",
              "      <th>72</th>\n",
              "      <td>25</td>\n",
              "      <td>43</td>\n",
              "      <td>1479</td>\n",
              "      <td>39.97</td>\n",
              "      <td>55.14</td>\n",
              "      <td>0</td>\n",
              "    </tr>\n",
              "    <tr>\n",
              "      <th>73</th>\n",
              "      <td>183</td>\n",
              "      <td>177</td>\n",
              "      <td>6748</td>\n",
              "      <td>44.98</td>\n",
              "      <td>87.18</td>\n",
              "      <td>1</td>\n",
              "    </tr>\n",
              "    <tr>\n",
              "      <th>74</th>\n",
              "      <td>84</td>\n",
              "      <td>77</td>\n",
              "      <td>2086</td>\n",
              "      <td>32.59</td>\n",
              "      <td>137.05</td>\n",
              "      <td>0</td>\n",
              "    </tr>\n",
              "  </tbody>\n",
              "</table>\n",
              "<p>75 rows × 6 columns</p>\n",
              "</div>"
            ],
            "text/plain": [
              "    Mat  Inns  Runs    Ave      SR  Cluster\n",
              "0    58   104  4154  41.95   51.49        1\n",
              "1   147   143  5238  39.68   85.25        1\n",
              "2    71   122  6147  53.92   58.22        1\n",
              "3   211   203  9779  58.20   92.12        1\n",
              "4    62    58  2102  48.88  136.22        0\n",
              "..  ...   ...   ...    ...     ...      ...\n",
              "70   77    71  1825  37.24  124.31        0\n",
              "71   62   105  4809  49.57   46.90        1\n",
              "72   25    43  1479  39.97   55.14        0\n",
              "73  183   177  6748  44.98   87.18        1\n",
              "74   84    77  2086  32.59  137.05        0\n",
              "\n",
              "[75 rows x 6 columns]"
            ]
          },
          "metadata": {
            "tags": []
          },
          "execution_count": 15
        }
      ]
    },
    {
      "cell_type": "code",
      "metadata": {
        "id": "2Droq0Azg8-P",
        "colab_type": "code",
        "colab": {
          "base_uri": "https://localhost:8080/",
          "height": 369
        },
        "outputId": "a482686f-de84-45a8-86e8-31cf79ae1ed2"
      },
      "source": [
        "sb.lmplot(\"SR\",\"Inns\",data=c_data,fit_reg=True,scatter_kws={\"s\":150},hue=\"Cluster\")\n",
        "plt.xlabel(\"Inns\")\n",
        "plt.ylabel([\"SR...\"])\n",
        "plt.show()"
      ],
      "execution_count": null,
      "outputs": [
        {
          "output_type": "display_data",
          "data": {
            "image/png": "[encoded data removed]",
            "text/plain": [
              "<Figure size 403.5x360 with 1 Axes>"
            ]
          },
          "metadata": {
            "tags": [],
            "needs_background": "light"
          }
        }
      ]
    },
    {
      "cell_type": "code",
      "metadata": {
        "id": "ElLU517fhBgX",
        "colab_type": "code",
        "colab": {
          "base_uri": "https://localhost:8080/",
          "height": 369
        },
        "outputId": "b4c8fc89-fb38-440e-9c17-99aaa5a809f2"
      },
      "source": [
        "sb.lmplot(\"Inns\",\"Ave\",data=c_data,fit_reg=True,scatter_kws={\"s\":100},hue=\"Cluster\")\n",
        "plt.xlabel(\"Mat\")\n",
        "plt.ylabel([\"Inns\"])\n",
        "plt.show()"
      ],
      "execution_count": null,
      "outputs": [
        {
          "output_type": "display_data",
          "data": {
            "image/png": "[encoded data removed]",
            "text/plain": [
              "<Figure size 403.5x360 with 1 Axes>"
            ]
          },
          "metadata": {
            "tags": [],
            "needs_background": "light"
          }
        }
      ]
    },
    {
      "cell_type": "code",
      "metadata": {
        "id": "NgPqw6BfhGSh",
        "colab_type": "code",
        "colab": {
          "base_uri": "https://localhost:8080/",
          "height": 34
        },
        "outputId": "61016846-dde4-4dd5-ddbe-32b343775f3f"
      },
      "source": [
        "# inertia_ - sum of all intra cluster distance\n",
        "Kmean_model.inertia_"
      ],
      "execution_count": null,
      "outputs": [
        {
          "output_type": "execute_result",
          "data": {
            "text/plain": [
              "136646128.18473926"
            ]
          },
          "metadata": {
            "tags": []
          },
          "execution_count": 18
        }
      ]
    },
    {
      "cell_type": "code",
      "metadata": {
        "id": "AG4f1PzUjXfs",
        "colab_type": "code",
        "colab": {}
      },
      "source": [
        "# cluster_centers_ differentiate all the diatance\n",
        "#Kmean_model.cluster_centers_"
      ],
      "execution_count": null,
      "outputs": []
    },
    {
      "cell_type": "code",
      "metadata": {
        "id": "q2x-zwfFjd10",
        "colab_type": "code",
        "colab": {}
      },
      "source": [
        "#c1=Kmean_model.cluster_centers_[0]\n",
        "#c1"
      ],
      "execution_count": null,
      "outputs": []
    },
    {
      "cell_type": "code",
      "metadata": {
        "id": "_Q3YxaLZjk2r",
        "colab_type": "code",
        "colab": {}
      },
      "source": [
        "#c2=Kmean_model.cluster_centers_[1]\n",
        "#c2"
      ],
      "execution_count": null,
      "outputs": []
    },
    {
      "cell_type": "code",
      "metadata": {
        "id": "mK3ajb63jnfH",
        "colab_type": "code",
        "colab": {}
      },
      "source": [
        "#f_name=c_data.columns\n",
        "#f_name"
      ],
      "execution_count": null,
      "outputs": []
    },
    {
      "cell_type": "markdown",
      "metadata": {
        "id": "bAidkWsxsD_F",
        "colab_type": "text"
      },
      "source": [
        "# **Choose the K value**"
      ]
    },
    {
      "cell_type": "code",
      "metadata": {
        "id": "gvg80CIxZ9xT",
        "colab_type": "code",
        "colab": {}
      },
      "source": [
        "#kmm=KMeans()"
      ],
      "execution_count": null,
      "outputs": []
    },
    {
      "cell_type": "code",
      "metadata": {
        "id": "aV7Rej3JcM-8",
        "colab_type": "code",
        "colab": {}
      },
      "source": [
        "#kmm"
      ],
      "execution_count": null,
      "outputs": []
    },
    {
      "cell_type": "code",
      "metadata": {
        "id": "lSNzoyfvcNFF",
        "colab_type": "code",
        "colab": {}
      },
      "source": [
        "#kmax=int(round(np.sqrt(len(mydata_customer))))\n"
      ],
      "execution_count": null,
      "outputs": []
    },
    {
      "cell_type": "code",
      "metadata": {
        "id": "IVmEMcX8cNJ3",
        "colab_type": "code",
        "colab": {}
      },
      "source": [
        "kmax=50\n",
        "wss=[]                                                     # empty list\n",
        "for k in range(1,kmax):                                    # For loop\n",
        "    #print(k)\n",
        "    km_model=KMeans(n_clusters=k)                          # K value set\n",
        "    km_model=km_model.fit(data_array)                      # Train the model\n",
        "    #print(f\"number of cluster is {k} and wss is {km_model.inertia_}\")       #Print all the inertia respect to all value ofk\n",
        "    wss.append(km_model.inertia_)                          # Put all the value of k in list"
      ],
      "execution_count": null,
      "outputs": []
    },
    {
      "cell_type": "code",
      "metadata": {
        "id": "ZBO3D6vbcM8-",
        "colab_type": "code",
        "colab": {
          "base_uri": "https://localhost:8080/",
          "height": 295
        },
        "outputId": "42a19a5f-a2ae-4e77-96fa-a6b13bb44665"
      },
      "source": [
        "k_range=list(range(1,kmax))                           # K_value (0-50)\n",
        "\n",
        "plt.plot(k_range,wss,'bx-')                           # (X,Y,*)\n",
        "plt.xlabel(\"Number of cluster k..\")                   # X_axis \n",
        "plt.ylabel(\"Wss or Error\")                            # Y_axis\n",
        "plt.title(\"Elow point for finding number cluster\")    # Titel\n",
        "plt.show()                                            # Plot the graph"
      ],
      "execution_count": null,
      "outputs": [
        {
          "output_type": "display_data",
          "data": {
            "image/png": "[encoded data removed]",
            "text/plain": [
              "<Figure size 432x288 with 1 Axes>"
            ]
          },
          "metadata": {
            "tags": [],
            "needs_background": "light"
          }
        }
      ]
    },
    {
      "cell_type": "markdown",
      "metadata": {
        "id": "5P8F8ML7d-7d",
        "colab_type": "text"
      },
      "source": [
        "## **Put the K-value and plot the graph**"
      ]
    },
    {
      "cell_type": "code",
      "metadata": {
        "id": "k44HC-sCd_VS",
        "colab_type": "code",
        "colab": {
          "base_uri": "https://localhost:8080/",
          "height": 85
        },
        "outputId": "5617cbb5-a19b-4797-ea24-b7a9503ade1d"
      },
      "source": [
        "Kmean_model=KMeans(n_clusters=4,max_iter=200).fit(data_array)\n",
        "Kmean_model.labels_\n"
      ],
      "execution_count": null,
      "outputs": [
        {
          "output_type": "execute_result",
          "data": {
            "text/plain": [
              "array([2, 2, 2, 1, 0, 3, 3, 0, 0, 2, 1, 0, 0, 0, 0, 0, 2, 0, 0, 0, 0, 0,\n",
              "       0, 2, 0, 0, 2, 2, 2, 0, 0, 0, 0, 1, 0, 0, 2, 2, 0, 0, 0, 0, 0, 0,\n",
              "       0, 2, 2, 0, 2, 2, 0, 2, 2, 0, 0, 2, 0, 0, 0, 0, 1, 1, 0, 0, 0, 1,\n",
              "       1, 0, 0, 2, 0, 2, 0, 2, 0], dtype=int32)"
            ]
          },
          "metadata": {
            "tags": []
          },
          "execution_count": 28
        }
      ]
    },
    {
      "cell_type": "code",
      "metadata": {
        "id": "0AlEG5Tgfcgp",
        "colab_type": "code",
        "colab": {}
      },
      "source": [
        "c_data[\"Cluster\"]=Kmean_model.labels_"
      ],
      "execution_count": null,
      "outputs": []
    },
    {
      "cell_type": "code",
      "metadata": {
        "id": "g8OWMhGVdt_g",
        "colab_type": "code",
        "colab": {
          "base_uri": "https://localhost:8080/",
          "height": 369
        },
        "outputId": "0666f511-3826-49ad-d397-f9da44c098b3"
      },
      "source": [
        "sb.lmplot(\"SR\",\"Inns\",data=c_data,fit_reg=True,scatter_kws={\"s\":50},hue=\"Cluster\")\n",
        "plt.xlabel(\"Inns\")\n",
        "plt.ylabel([\"SR...\"])\n",
        "plt.show()"
      ],
      "execution_count": null,
      "outputs": [
        {
          "output_type": "display_data",
          "data": {
            "image/png": "[encoded data removed]",
            "text/plain": [
              "<Figure size 403.5x360 with 1 Axes>"
            ]
          },
          "metadata": {
            "tags": [],
            "needs_background": "light"
          }
        }
      ]
    },
    {
      "cell_type": "code",
      "metadata": {
        "id": "Y8dRc_NreXtW",
        "colab_type": "code",
        "colab": {
          "base_uri": "https://localhost:8080/",
          "height": 34
        },
        "outputId": "2e9aa2c7-abc6-435f-c957-e67b86aaa441"
      },
      "source": [
        "Kmean_model.inertia_"
      ],
      "execution_count": null,
      "outputs": [
        {
          "output_type": "execute_result",
          "data": {
            "text/plain": [
              "76486946.74615143"
            ]
          },
          "metadata": {
            "tags": []
          },
          "execution_count": 31
        }
      ]
    },
    {
      "cell_type": "code",
      "metadata": {
        "id": "umcyib7Weksc",
        "colab_type": "code",
        "colab": {
          "base_uri": "https://localhost:8080/",
          "height": 369
        },
        "outputId": "85f4f24f-875c-4eb6-9922-e966c0171ad7"
      },
      "source": [
        "Kmean_model=KMeans(n_clusters=3,max_iter=1000).fit(data_array)\n",
        "c_data[\"Cluster\"]=Kmean_model.labels_\n",
        "\n",
        "sb.lmplot(\"SR\",\"Ave\",data=c_data,fit_reg=True,scatter_kws={\"s\":50},hue=\"Cluster\")\n",
        "plt.xlabel(\"Inns\")\n",
        "plt.ylabel([\"SR...\"])\n",
        "plt.show()"
      ],
      "execution_count": null,
      "outputs": [
        {
          "output_type": "display_data",
          "data": {
            "image/png": "[encoded data removed]",
            "text/plain": [
              "<Figure size 403.5x360 with 1 Axes>"
            ]
          },
          "metadata": {
            "tags": [],
            "needs_background": "light"
          }
        }
      ]
    },
    {
      "cell_type": "code",
      "metadata": {
        "id": "4zU0qBTfu5RS",
        "colab_type": "code",
        "colab": {}
      },
      "source": [
        ""
      ],
      "execution_count": null,
      "outputs": []
    }
  ]
}